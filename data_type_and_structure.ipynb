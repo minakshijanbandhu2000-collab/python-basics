{
  "nbformat": 4,
  "nbformat_minor": 0,
  "metadata": {
    "colab": {
      "provenance": []
    },
    "kernelspec": {
      "name": "python3",
      "display_name": "Python 3"
    },
    "language_info": {
      "name": "python"
    }
  },
  "cells": [
    {
      "cell_type": "markdown",
      "source": [
        "#Data Type And Structure"
      ],
      "metadata": {
        "id": "HOPJV5z8-jPu"
      }
    },
    {
      "cell_type": "markdown",
      "source": [
        "1. What are data structures, and why are they important?\n",
        "  - A data structure is a specialized way of organizing, managing, and storing data in a computer so it can be used efficiently. In simple words, it defines how data is arranged in memory and how operations (like searching, inserting, deleting, updating, or traversing) can be performed on it.\n",
        "  Why are Data Structures Important?\n",
        "  Efficiency:\n",
        "  The right data structure improves performance. For example, searching in an array (O(n)) is slower than searching in a hash table (O(1) average case).\n",
        "  \n",
        "  Memory Management:\n",
        "  - They help in using memory optimally (e.g., linked lists avoid memory wastage compared to fixed-size arrays).\n",
        "  Reusability:\n",
        "  Standard data structures (like stacks, queues, graphs) provide reusable solutions for common problems.\n",
        "\n",
        "  Data Organization:\n",
        "  - They give a systematic way to organize data for easy processing (e.g., trees for hierarchical data, graphs for networks).\n",
        "\n",
        "\n",
        "2. Explain the difference between mutable and immutable data types with examples.\n",
        "   - 1. Mutable Data Types\n",
        "       \n",
        "       Definition: Objects whose content (values) can be changed after creation.\n",
        "       \n",
        "       Effect: Modifying them does not create a new object in memory; instead, changes happen in place.\n",
        "\n",
        "Examples\n",
        "\n",
        "       my_list = [1, 2, 3]\n",
        "       my_list[0] = 100   \n",
        "       print(my_list)\n",
        "\n",
        "  - 2. immutable Data Types\n",
        "\n",
        "       Definition: Objects whose content cannot be changed after creation.\n",
        "\n",
        "       Effect: Any modification creates a new object in memory instead of modifying the original one.\n",
        "Examples\n",
        "\n",
        "      my_str = \"hello\"\n",
        "      new_str = my_str.replace(\"h\", \"H\")\n",
        "      print(my_str)      \n",
        "      print(new_str)     \n",
        "\n",
        "3. What are the main differences between lists and tuples in Python?      \n",
        "   -List\n",
        "\n",
        "        - Mutable (can change after creation\n",
        "\n",
        "        - [ ] (square brackets)\n",
        "\n",
        "        - Can add, remove, update elements\n",
        "\n",
        "        - Slower (because mutable, requires more memory handling)\n",
        "\n",
        "        - Uses more memory\n",
        "\n",
        "        - Slightly slower\n",
        "\n",
        "        - When data may need modification (e.g., dynamic lists of items)\n",
        "\n",
        "       -  When data may need modification (e.g., dynamic lists of items)\n",
        "\n",
        "  Example\n",
        "\n",
        "      my_list = [10, 20, 30]\n",
        "      my_list[1] = 200       # Modifying element\n",
        "      my_list.append(40)     # Adding element\n",
        "      print(my_list)\n",
        "\n",
        "\n",
        "  -Tuple\n",
        "\n",
        "         - ❌ Immutable (cannot change after creation)\n",
        "\n",
        "         - ( ) (parentheses)\n",
        "\n",
        "         - Cannot add, remove, or update elements\n",
        "\n",
        "         - Faster (because immutable)\n",
        "\n",
        "         - Uses less memory\n",
        "\n",
        "         - Faster due to immutability\n",
        "\n",
        "         - When data should not change (e.g., fixed configuration, coordinates)\n",
        "\n",
        "         - Few (count(), index())\n",
        "\n",
        "\n",
        " Example\n",
        "\n",
        "     my_tuple = (10, 20, 30)\n",
        "     # my_tuple[1] = 200  \n",
        "     print(my_tuple)\n",
        "\n",
        "\n",
        "4. Describe how dictionaries store data.\n",
        "-  Dictionaries in Python\n",
        "\n",
        "     A dictionary is a built-in data structure that stores data as key value pairs.\n",
        "\n",
        "Example:\n",
        "\n",
        "   my_dict = {\"apple\": 10, \"banana\": 20}\n",
        "   print(my_dict[\"apple\"])   \n",
        "   my_dict[\"banana\"] = 25    \n",
        "   my_dict[\"cherry\"] = 30    \n",
        "   print(my_dict)\n",
        "   Output: {'apple': 10, 'banana': 25, 'cherry': 30}\n",
        "\n",
        "5. Why might you use a set instead of a list in Python?\n",
        "   - Reasons to Use a Set Instead of a List\n",
        "\n",
        "   Uniqueness of Elements\n",
        "     A set automatically removes duplicates.\n",
        "\n",
        "Example:  \n",
        "\n",
        "     my_list = [1, 2, 2, 3, 3, 3]\n",
        "     my_set = set(my_list)\n",
        "     print(my_set)   # {1, 2, 3}\n",
        "\n",
        "   - Faster Lookups (Membership Testing)\n",
        "\n",
        "Checking if an item exists (in) is faster in a set (average O(1)) than in a list (O(n)).\n",
        "\n",
        "Example:\n",
        "\n",
        "     nums_list = [1, 2, 3, 4, 5]\n",
        "     nums_set = {1, 2, 3, 4, 5}\n",
        "     print(3 in nums_list)  # O(n) search\n",
        "     print(3 in nums_set)   # O(1) search\n",
        "\n",
        "- Set Operations\n",
        "\n",
        "Sets support mathematical operations (union, intersection, difference, symmetric difference), which are not directly available with lists.\n",
        "\n",
        "Example:\n",
        "\n",
        "     a = {1, 2, 3}\n",
        "     b = {3, 4, 5}\n",
        "     print(a & b)   # Intersection → {3}\n",
        "     print(a | b)   # Union → {1, 2, 3, 4, 5}\n",
        "     print(a - b)   # Difference → {1, 2}\n",
        "\n",
        "6. What is a string in Python, and how is it different from a list?\n",
        "\n",
        "   - String\n",
        "   \n",
        " A string is a sequence of characters enclosed in single ('), double (\") or triple quotes (''' / \"\"\").\n",
        "\n",
        "Example\n",
        "\n",
        "     my_str = \"Python\"\n",
        "     print(my_str[0])     \n",
        "     print(my_str[2:5])   \n",
        "     new_str = \"J\" + my_str[1:]\n",
        "     print(new_str)       \n",
        "\n",
        "   - List\n",
        "\n",
        "A list is a flexible container for any type of elements (mutable, general-purpose).\n",
        "\n",
        "Example\n",
        "     my_list = [10, 20, 30, \"Python\"]\n",
        "     print(my_list[0])     # 10\n",
        "     print(my_list[1:3])   # [20, 30]\n",
        "\n",
        "     # Lists are mutable\n",
        "     my_list[0] = 100\n",
        "     my_list.append(\"AI\")\n",
        "     print(my_list)        # [100, 20, 30, \"Python\", \"AI\"]\n",
        "\n",
        "7. How do tuples ensure data integrity in Python?\n",
        "\n",
        "   -They are immutable (no accidental modifications).\n",
        "\n",
        "   -They are hashable (can be safely used as dictionary keys/unique identifiers).\n",
        "\n",
        "   -They provide predictability when sharing data across functions.\n",
        "\n",
        "   -They serve as read-only collections, signaling that the data is fixed.\n",
        "\n",
        "8. What is a hash table, and how does it relate to dictionaries in Python?\n",
        "\n",
        "  -What is a Hash Table\n",
        "\n",
        "   1.A hash table is a data structure that stores data in key–value pairs using a process called hashing.\n",
        "\n",
        "   2.A hash function converts the key into a numerical value (called a hash value).\n",
        "\n",
        "   3.This hash value determines the index (position) where the key–value pair will be stored in memory.\n",
        "\n",
        "   4.This allows fast lookups, insertions, and deletions (average O(1) time complexity).\n",
        "\n",
        "   -This Relate to Python Dictionaries?\n",
        "\n",
        "In Python, a dictionary (dict) is implemented using a hash table.\n",
        "\n",
        "When you do:\n",
        "my_dict = {\"apple\": 100, \"banana\": 200}\n",
        "\n",
        "\n",
        "9.  Can lists contain different data types in Python?\n",
        "\n",
        "    - In Python, lists can contain elements of different data types because Python is a dynamically typed language. Unlike arrays in many other languages (which require a fixed type), Python lists can hold a mix of integers, floats, strings, booleans, objects, even other lists or dictionaries.\n",
        "\n",
        "Example: Different Data Types in a List\n",
        "\n",
        "my_list = [10, 3.14, \"Hello\", True, [1, 2, 3], {\"a\": 1, \"b\": 2}]\n",
        "\n",
        "print(my_list)\n",
        "\n",
        "Output: [10, 3.14, 'Hello', True, [1, 2, 3], {'a': 1, 'b': 2}]\n",
        "\n",
        "10. Explain why strings are immutable in Python.\n",
        "\n",
        "  - 1. Memory Efficiency (String Interning)\n",
        "\n",
        "   Python often reuses string objects for optimization (called string interning).\n",
        "\n",
        "   If strings were mutable, changing one variable could accidentally change another that points to the same string.\n",
        "\n",
        "   Immutability avoids this issue.\n",
        "\n",
        "Example\n",
        "   \n",
        "   a = \"python\"\n",
        "\n",
        "   b = \"python\"   \n",
        "\n",
        "   - 2. Hashability (Use as Dictionary Keys / Set Elements)\n",
        "\n",
        "  Strings are hashable, which means they can be used as keys in dictionaries or as elements in sets.\n",
        "\n",
        "  If strings were mutable, their hash value could change after modification, breaking the hash table.\n",
        "\n",
        "  Immutability guarantees consistency.\n",
        "\n",
        "  Example\n",
        "\n",
        "  my_dict = {\"name\": \"Alice\"}\n",
        "\n",
        " \"name\" stays constant as a key because it's immutable\n",
        "\n",
        "  - 3. Thread Safety\n",
        "\n",
        "In multi-threaded programs, immutable objects like strings are safer because they cannot be modified by one thread while another is reading them.\n",
        "\n",
        "  - 4. Simplicity and Reliability\n",
        "\n",
        "Text data is usually meant to be read or copied, not modified in place.\n",
        "\n",
        "Making strings immutable reduces bugs and makes them behave predictably.\n",
        "\n",
        "11.  What advantages do dictionaries offer over lists for certain tasks?\n",
        "     - Advantages of Dictionaries Over Lists\n",
        "      \n",
        "     1. Fast Lookups (O(1) vs O(n))\n",
        "\n",
        "     List: Searching for an item requires scanning through the list → O(n) time.\n",
        "\n",
        "     Dictionary: Uses a hash table, so looking up a value by key is usually O(1).\n",
        "Example\n",
        "\n",
        "     students_list = [(\"Alice\", 25), (\"Bob\", 30), (\"Charlie\", 22)]\n",
        "     students_dict = {\"Alice\": 25, \"Bob\": 30, \"Charlie\": 22}\n",
        "     print(students_dict[\"Bob\"])  # Direct access → 30\n",
        "\n",
        "  \n",
        "  \n",
        "  \n",
        "  2. Key–Value Pair Storage\n",
        "\n",
        "     Lists store data in a sequence (by index).\n",
        "\n",
        "     Dictionaries store key–value pairs, allowing you to label and directly access data by a meaningful key.\n",
        "\n",
        "Example:    \n",
        "\n",
        "     person = [\"Alice\", 25, \"New York\"]  \n",
        "     person = {\"name\": \"Alice\", \"age\": 25, \"city\": \"New York\"}\n",
        "\n",
        "     \n",
        "    \n",
        "3. Better Data Integrity\n",
        "\n",
        "With dictionaries, you avoid mistakes caused by relying on list positions.\n",
        "\n",
        "Keys make data access more explicit and less error-prone.\n",
        "\n",
        "4. Flexibility of Keys\n",
        "\n",
        "In dictionaries, keys can be strings, numbers, or tuples (immutable types).\n",
        "\n",
        "This allows modeling of complex data (e.g., coordinates, database-like structures).     \n",
        "\n",
        "12. Describe a scenario where using a tuple would be preferable over a list.\n",
        "\n",
        "   - When to Use a Tuple Instead of a List:\n",
        "\n",
        "-Immutable Data\n",
        "\n",
        "  Use a tuple when you need to store data that should not change after creation, ensuring data integrity and preventing accidental modifications.\n",
        "\n",
        "-Dictionary Keys\n",
        "\n",
        "  Tuples can be used as keys in dictionaries because they are hashable, unlike lists. This is particularly useful for creating composite keys.\n",
        "\n",
        "\n",
        "-Performance Considerations\n",
        "\n",
        "  Tuples are generally faster than lists for iteration and require less memory, making them suitable for performance-critical applications.\n",
        "\n",
        "\n",
        "-Data Integrity in Multi-threaded Environments\n",
        "\n",
        "  In multi-threaded applications, using tuples ensures that the data remains unchanged, preventing potential issues arising from concurrent modifications.\n",
        "\n",
        "13.  How do sets handle duplicate values in Python?\n",
        "\n",
        "   - Key Points:\n",
        "\n",
        "  1.Automatic Removal of Duplicates\n",
        "\n",
        "  Sets inherently discard duplicate entries. If you attempt to add a duplicate item to a set, Python will ignore the addition, ensuring that each element appears only once.\n",
        "\n",
        " Example:\n",
        "\n",
        "     fruits = {\"apple\", \"banana\", \"cherry\", \"apple\"}\n",
        "     print(fruits)\n",
        "     Output: {'banana', 'cherry', 'apple'}\n",
        "\n",
        "  2.Unordered Collection\n",
        "\n",
        "  Sets are unordered, meaning that the items do not have a defined order. The order in which items are stored and retrieved is not guaranteed and may vary each time the program is run.\n",
        "\n",
        "  3.Efficient Membership Testing\n",
        "\n",
        "Sets are implemented using hash tables, allowing for average-case constant time complexity (O(1)) for membership tests. This makes checking for the existence of an element in a set faster compared to lists.\n",
        "\n",
        "4.Use Cases for Sets\n",
        "\n",
        "Sets are particularly useful when you need to ensure that a collection contains only unique items, such as:\n",
        "\n",
        "Removing duplicates from a list:\n",
        "\n",
        "numbers = [1, 2, 2, 3, 4, 5, 5]\n",
        "unique_numbers = set(numbers)\n",
        "print(unique_numbers)\n",
        "Output: {1, 2, 3, 4, 5}\n",
        "\n",
        "\n",
        "14.  How does the “in” keyword work differently for lists and dictionaries?\n",
        "\n",
        "    - Behavior of in Keyword:\n",
        "\n",
        "1.Lists\n",
        "\n",
        " Checks for Element Presence: When used with a list, the in keyword checks if the specified value exists as an element within the list.\n",
        "\n",
        "Example:\n",
        "\n",
        "fruits = [\"apple\", \"banana\", \"cherry\"]\n",
        "print(\"banana\" in fruits)  # Output: True\n",
        "print(\"orange\" in fruits)  # Output: False\n",
        "\n",
        "Time Complexity:\n",
        "\n",
        "The operation has an average-case time complexity of O(n), where n is the number of elements in the list, because it may need to check each element.\n",
        "\n",
        "2.Dictionaries\n",
        "\n",
        " Checks for Key Presence: In dictionaries, the in keyword checks if the specified key exists within the dictionary, not the value.\n",
        "\n",
        "Examples:\n",
        "\n",
        "person = {\"name\": \"Alice\", \"age\": 30}\n",
        "print(\"name\" in person)  # Output: True\n",
        "print(\"Alice\" in person)  # Output: False\n",
        "\n",
        "Time Complexity:\n",
        "\n",
        "  The operation has an average-case time complexity of O(1), meaning it can check for the presence of a key in constant time due to the underlying hash table implementation.\n",
        "\n",
        "15. Can you modify the elements of a tuple? Explain why or why not.\n",
        "  - No, you cannot modify the elements of a tuple in Python. Tuples are immutable data structures, meaning their contents cannot be changed after they are created. Attempting to modify an element directly will result in a TypeError.\n",
        "\n",
        "Can You Modify a Tuple?\n",
        "\n",
        "While you cannot modify a tuple directly, you can create a new tuple by combining existing tuples or by converting a tuple to a list, making changes, and then converting it back to a tuple.\n",
        "\n",
        "For example:\n",
        "\n",
        "original_tuple = (10, 20, 30)\n",
        "modified_tuple = original_tuple[:1] + (99,) + original_tuple[2:]\n",
        "print(modified_tuple)  # Output: (10, 99, 30)\n",
        "\n",
        "This approach creates a new tuple with the desired modifications, leaving the original tuple unchanged.  \n",
        "\n",
        "16. What is a nested dictionary, and give an example of its use case?\n",
        "   \n",
        "   - A nested dictionary in Python is a dictionary where each key maps to another dictionary, allowing you to represent hierarchical or multi-level data structures. This is particularly useful for organizing complex data in a structured way.\n",
        "\n",
        "Use Cases for Nested Dictionaries:\n",
        "\n",
        "1.storing Student Information\n",
        "\n",
        "Organize data such as names, ages, and grades for multiple students.\n",
        "\n",
        "Example:\n",
        "\n",
        "students = {\n",
        "    'student1': {'name': 'Alice', 'age': 20, 'grades': {'math': 'A', 'science': 'B'}},\n",
        "    'student2': {'name': 'Bob', 'age': 22, 'grades': {'math': 'B', 'science': 'A'}}\n",
        "}\n",
        "\n",
        "2.Employee Records by Department\n",
        "\n",
        "Maintain employee details categorized by department.\n",
        "\n",
        "Example:\n",
        "\n",
        "employees = {\n",
        "    'HR': {'emp1': {'name': 'Janice', 'age': 25}, 'emp2': {'name': 'Jake', 'age': 30}},\n",
        "    'IT': {'emp3': {'name': 'Sam', 'age': 28}, 'emp4': {'name': 'Kim', 'age': 35}}\n",
        "}-\n",
        "  \n",
        "17. Describe the time complexity of accessing elements in a dictionary.\n",
        "\n",
        "   - In Python, dictionaries are implemented using hash tables, which allow for efficient data retrieval. Here's a breakdown of the time complexity for accessing elements in a dictionary:\n",
        "\n",
        "1.Average-Case Time Complexity: O(1)\n",
        "\n",
        " Direct Access:\n",
        "\n",
        "  Retrieving a value by its key is typically an O(1) operation. This means that, on average, the time it takes to access an element does not depend on the size of the dictionary.\n",
        "\n",
        "Example:\n",
        "  \n",
        "  my_dict = {'a': 10, 'b': 20}\n",
        "  value = my_dict['a']  # O(1) on average\n",
        "\n",
        "Reason:\n",
        "\n",
        " Dictionaries use a hash table internally. When you access a key, Python computes the hash of the key and uses it to determine the index where the corresponding value is stored. This direct indexing leads to constant-time retrieval.\n",
        "\n",
        "2.Worst-Case Time Complexity: O(n)\n",
        "\n",
        " Collision Handling:\n",
        "\n",
        "  In rare cases, multiple keys may hash to the same index, causing a collision. If many such collisions occur, the dictionary may degrade to a linear search, resulting in O(n) time complexity for access operations.\n",
        "\n",
        " Example:\n",
        "\n",
        "Hypothetical scenario with many collisions\n",
        "\n",
        "  my_dict = {key: value for key, value in zip(large_key_list, value_list)}\n",
        "  value = my_dict['some_key']  # O(n) in worst case\n",
        "\n",
        "Mitigation:\n",
        "\n",
        " Python's hash table implementation is designed to minimize collisions. The worst-case scenario is uncommon and typically arises only under specific conditions.\n",
        "\n",
        "18. In what situations are lists preferred over dictionaries.\n",
        "\n",
        "When to Use Lists Instead of Dictionaries:\n",
        "\n",
        "1.Ordered Collection of Items\n",
        "\n",
        "Use a list when the order of elements matters. Lists maintain the sequence in which items are added, allowing for ordered operations like sorting and indexing.\n",
        "\n",
        "2.Access by Index\n",
        "\n",
        "If you need to access elements by their position, lists provide efficient index-based access. This is particularly useful when the position of an element is significant.\n",
        "\n",
        "3.Allowing Duplicates\n",
        "\n",
        "Lists can store duplicate elements, making them suitable for scenarios where repetition is necessary, such as counting occurrences or handling non-unique data.\n",
        "\n",
        "4.Sequential Iteration\n",
        "\n",
        "When you need to iterate over elements in a specific order, lists are ideal due to their ordered nature. This is beneficial for tasks like processing items in the sequence they were added.\n",
        "\n",
        "5.Dynamic Array Operations\n",
        "\n",
        "Lists support various operations like append, insert, and remove, allowing for dynamic modification of the collection. This flexibility is useful when the dataset changes over time.\n",
        "\n",
        "19. Why are dictionaries considered unordered, and how does that affect data retrieval?\n",
        "\n",
        "   - Why Are Dictionaries Considered Unordered?\n",
        "\n",
        "1.Hash Table Implementation\n",
        "\n",
        "Dictionaries in Python are implemented using hash tables. This means that each key is hashed to determine its storage location. The order of keys is not preserved because the primary goal is to optimize for fast lookups, insertions, and deletions.\n",
        "\n",
        "2.No Indexing or Slicing\n",
        "\n",
        "Unlike lists or tuples, dictionaries do not support indexing or slicing. You cannot access elements by their position; instead, you access values via their unique keys.\n",
        "\n",
        "3.Insertion Order Not Guaranteed\n",
        "\n",
        "In Python versions prior to 3.7, dictionaries did not guarantee the order of elements. The order in which items were inserted was not necessarily the order in which they were retrieved.\n",
        "\n",
        "\n",
        "Impact on Data Retrieval:\n",
        "\n",
        "1.Efficient Key-Based Access\n",
        "\n",
        "The unordered nature allows dictionaries to provide average-case constant time complexity (O(1)) for lookups, insertions, and deletions. This efficiency is due to the direct hashing mechanism.\n",
        "\n",
        "2.Unpredictable Iteration Order\n",
        "\n",
        "Before Python 3.7, iterating over a dictionary did not guarantee any specific order. This could lead to inconsistent results when iterating over dictionaries in different runs of the program.\n",
        "\n",
        "20. Explain the difference between a list and a dictionary in terms of data retrieval.\n",
        "\n",
        "    - In Python, lists and dictionaries are both versatile data structures, but they differ significantly in how they handle data retrieval. Here's a\n",
        "    \n",
        "  detailed comparison:\n",
        "\n",
        "1)Lists:\n",
        "\n",
        " Ordered Collections with Index-Based Access:\n",
        "Access by Index: Elements are retrieved using their position (index) in the list.\n",
        "\n",
        "Example:\n",
        "\n",
        "  my_list = ['apple', 'banana', 'cherry']\n",
        "  print(my_list[1])  # Output: banana\n",
        "\n",
        "Time Complexity:\n",
        "\n",
        " Accessing an element by index is an O(1) operation. However, searching for an element by value requires O(n) time, where n is the number of elements in the list.\n",
        "\n",
        "Example:\n",
        "\n",
        "   if 'banana' in my_list:  # O(n) on average\n",
        "      print(\"Found\")\n",
        "Use Case: Ideal for maintaining an ordered collection of items where the position of each item is significant.\n",
        "\n",
        "2) Dictionaries:\n",
        "\n",
        " Unordered Collections with Key-Based Access\n",
        "Access by Key: Elements are stored as key-value pairs and accessed using unique keys.\n",
        "\n",
        "Example:\n",
        "\n",
        "  my_dict = {'a': 1, 'b': 2, 'c': 3}\n",
        "  print(my_dict['b'])  # Output: 2\n",
        "\n",
        "Time Complexity:\n",
        "\n",
        "Retrieving a value by its key is an O(1) operation on average, thanks to the underlying hash table implementation.\n",
        "\n",
        "Example:\n",
        "\n",
        "  if 'b' in my_dict:  # O(1) on average\n",
        "      print(\"Found\")\n",
        "\n",
        "Use Case:\n",
        "\n",
        " Best suited for scenarios where quick lookups, insertions, and deletions are needed, and each item is uniquely identified by a key."
      ],
      "metadata": {
        "id": "vMRjGCxS-74A"
      }
    },
    {
      "cell_type": "code",
      "execution_count": 2,
      "metadata": {
        "id": "pXHKvNKr-VDm",
        "colab": {
          "base_uri": "https://localhost:8080/"
        },
        "outputId": "bbde6f2e-4709-409c-835d-eaca6008810f"
      },
      "outputs": [
        {
          "output_type": "stream",
          "name": "stdout",
          "text": [
            "minakshi\n"
          ]
        }
      ],
      "source": [
        "#1. Write a code to create a string with your name and print it.\n",
        "name = \"minakshi\"\n",
        "\n",
        "print(name)"
      ]
    },
    {
      "cell_type": "code",
      "source": [
        "#2. Write a code to find the length of the string \"Hello World\"\n",
        "string = \"Hello World\"\n",
        "\n",
        "length = len(string)\n",
        "\n",
        "print(length)"
      ],
      "metadata": {
        "colab": {
          "base_uri": "https://localhost:8080/"
        },
        "id": "QYTH_d1veGMX",
        "outputId": "b6624ebd-12ec-4ed4-dccd-b720e9764531"
      },
      "execution_count": 3,
      "outputs": [
        {
          "output_type": "stream",
          "name": "stdout",
          "text": [
            "11\n"
          ]
        }
      ]
    },
    {
      "cell_type": "code",
      "source": [
        "#3. Write a code to slice the first 3 characters from the string \"Python Programming\".\n",
        "string = \"Python Programming\"\n",
        "\n",
        "sliced_string = string[:3]\n",
        "\n",
        "print(sliced_string)"
      ],
      "metadata": {
        "colab": {
          "base_uri": "https://localhost:8080/"
        },
        "id": "1apWHEkDemyA",
        "outputId": "5688ebda-cebd-40eb-cf0e-688ef5c6e1d4"
      },
      "execution_count": 4,
      "outputs": [
        {
          "output_type": "stream",
          "name": "stdout",
          "text": [
            "Pyt\n"
          ]
        }
      ]
    },
    {
      "cell_type": "code",
      "source": [
        "#4.Write a code to convert the string \"hello\" to uppercase.\n",
        "string = \"hello\"\n",
        "\n",
        "uppercase_string = string.upper()\n",
        "\n",
        "print(uppercase_string)"
      ],
      "metadata": {
        "colab": {
          "base_uri": "https://localhost:8080/"
        },
        "id": "YzW6TwcWfYYk",
        "outputId": "a29a9bfb-f620-40bc-f529-30410eb34b31"
      },
      "execution_count": 5,
      "outputs": [
        {
          "output_type": "stream",
          "name": "stdout",
          "text": [
            "HELLO\n"
          ]
        }
      ]
    },
    {
      "cell_type": "code",
      "source": [
        "#5. Write a code to replace the word \"apple\" with \"orange\" in the string \"I like apple\".\n",
        "# Original string\n",
        "text = \"I like apple\"\n",
        "\n",
        "# Replace \"apple\" with \"orange\"\n",
        "new_text = text.replace(\"apple\", \"orange\")\n",
        "\n",
        "# Print the result\n",
        "print(new_text)"
      ],
      "metadata": {
        "colab": {
          "base_uri": "https://localhost:8080/"
        },
        "id": "0u-BxLtffwus",
        "outputId": "03fe753c-e768-401f-8fe1-d2e6a27a9ec6"
      },
      "execution_count": 6,
      "outputs": [
        {
          "output_type": "stream",
          "name": "stdout",
          "text": [
            "I like orange\n"
          ]
        }
      ]
    },
    {
      "cell_type": "code",
      "source": [
        "#6.Write a code to create a list with numbers 1 to 5 and print it.\n",
        "numbers = [1, 2, 3, 4, 5]\n",
        "\n",
        "print(numbers)"
      ],
      "metadata": {
        "colab": {
          "base_uri": "https://localhost:8080/"
        },
        "id": "1oYxZhGOf-oJ",
        "outputId": "1e444c8b-1573-43d6-a502-922867465107"
      },
      "execution_count": 7,
      "outputs": [
        {
          "output_type": "stream",
          "name": "stdout",
          "text": [
            "[1, 2, 3, 4, 5]\n"
          ]
        }
      ]
    },
    {
      "cell_type": "code",
      "source": [
        "#7.Write a code to append the number 10 to the list [1, 2, 3, 4].\n",
        "my_list = [1, 2, 3, 4]\n",
        "\n",
        "my_list.append(10)\n",
        "\n",
        "print(my_list)"
      ],
      "metadata": {
        "colab": {
          "base_uri": "https://localhost:8080/"
        },
        "id": "syfkAs9qgfWQ",
        "outputId": "03943253-f41a-4ed2-fd7f-6a891942ca1c"
      },
      "execution_count": 8,
      "outputs": [
        {
          "output_type": "stream",
          "name": "stdout",
          "text": [
            "[1, 2, 3, 4, 10]\n"
          ]
        }
      ]
    },
    {
      "cell_type": "code",
      "source": [
        "#8.Write a code to remove the number 3 from the list [1, 2, 3, 4, 5].\n",
        "my_list = [1, 2, 3, 4, 5]\n",
        "\n",
        "my_list.remove(3)\n",
        "\n",
        "print(my_list)"
      ],
      "metadata": {
        "colab": {
          "base_uri": "https://localhost:8080/"
        },
        "id": "E5ZLIU1cg3sZ",
        "outputId": "5099fd4c-2481-4993-d29b-82522977ecfb"
      },
      "execution_count": 9,
      "outputs": [
        {
          "output_type": "stream",
          "name": "stdout",
          "text": [
            "[1, 2, 4, 5]\n"
          ]
        }
      ]
    },
    {
      "cell_type": "code",
      "source": [
        "#9. Write a code to access the second element in the list ['a', 'b', 'c', 'd'].\n",
        "my_list = ['a', 'b', 'c', 'd']\n",
        "\n",
        "second_element = my_list[1]\n",
        "\n",
        "print(second_element)"
      ],
      "metadata": {
        "colab": {
          "base_uri": "https://localhost:8080/"
        },
        "id": "BtTtn7JFhKNP",
        "outputId": "e5a0203f-7e2d-430b-ff77-90470632f763"
      },
      "execution_count": 10,
      "outputs": [
        {
          "output_type": "stream",
          "name": "stdout",
          "text": [
            "b\n"
          ]
        }
      ]
    },
    {
      "cell_type": "code",
      "source": [
        "#10.Write a code to reverse the list [10, 20, 30, 40, 50].\n",
        "my_List = [10, 20, 30, 40, 50]\n",
        "\n",
        "reversed_list = my_list[::-1]\n",
        "\n",
        "print(reversed_list)"
      ],
      "metadata": {
        "colab": {
          "base_uri": "https://localhost:8080/"
        },
        "id": "x1diNcU4hZfj",
        "outputId": "f99138d5-d3a7-489e-bef8-60d796bd7401"
      },
      "execution_count": 13,
      "outputs": [
        {
          "output_type": "stream",
          "name": "stdout",
          "text": [
            "['d', 'c', 'b', 'a']\n"
          ]
        }
      ]
    },
    {
      "cell_type": "code",
      "source": [
        "#11. Write a code to create a tuple with the elements 100, 200, 300 and print it.\n",
        "my_tuple = (100, 200, 300)\n",
        "\n",
        "print(my_tuple)"
      ],
      "metadata": {
        "colab": {
          "base_uri": "https://localhost:8080/"
        },
        "id": "wj2PgOe3hyl9",
        "outputId": "23424c31-d2d5-4bbc-80de-012d746ea097"
      },
      "execution_count": 14,
      "outputs": [
        {
          "output_type": "stream",
          "name": "stdout",
          "text": [
            "(100, 200, 300)\n"
          ]
        }
      ]
    },
    {
      "cell_type": "code",
      "source": [
        "#12.Write a code to access the second-to-last element of the tuple ('red', 'green', 'blue', 'yellow').\n",
        "my_tuple = ('red', 'green', 'blue', 'yellow')\n",
        "\n",
        "second_to_last_element = my_tuple[-2]\n",
        "\n",
        "print(second_to_last_element)"
      ],
      "metadata": {
        "colab": {
          "base_uri": "https://localhost:8080/"
        },
        "id": "MyqZjsUYiYrW",
        "outputId": "c778c447-3dc5-45ab-86c8-671e3ec75a3c"
      },
      "execution_count": 15,
      "outputs": [
        {
          "output_type": "stream",
          "name": "stdout",
          "text": [
            "blue\n"
          ]
        }
      ]
    },
    {
      "cell_type": "code",
      "source": [
        "#13. Write a code to find the minimum number in the tuple (10, 20, 5, 15).\n",
        "my_tuple = (10, 20, 5, 15)\n",
        "\n",
        "minimum_number = min(my_tuple)\n",
        "\n",
        "print(minimum_number)"
      ],
      "metadata": {
        "colab": {
          "base_uri": "https://localhost:8080/"
        },
        "id": "NJpo5EZciw0g",
        "outputId": "cf71fdbc-cd8a-4ad7-d0fd-fef2e3d66c0b"
      },
      "execution_count": 16,
      "outputs": [
        {
          "output_type": "stream",
          "name": "stdout",
          "text": [
            "5\n"
          ]
        }
      ]
    },
    {
      "cell_type": "code",
      "source": [
        "#14. Write a code to find the index of the element \"cat\" in the tuple ('dog', 'cat', 'rabbit').\n",
        "my_tuple = ('dog', 'cat', 'rabbit')\n",
        "\n",
        "index_of_cat = my_tuple.index('cat')\n",
        "\n",
        "print(index_of_cat)"
      ],
      "metadata": {
        "colab": {
          "base_uri": "https://localhost:8080/"
        },
        "id": "fklNBl1xjJeJ",
        "outputId": "4685f4e3-4152-4b99-9c8b-a737af127c31"
      },
      "execution_count": 17,
      "outputs": [
        {
          "output_type": "stream",
          "name": "stdout",
          "text": [
            "1\n"
          ]
        }
      ]
    },
    {
      "cell_type": "code",
      "source": [
        "#15.Write a code to create a tuple containing three different fruits and check if \"kiwi\" is in it.\n",
        "fruits_tuple = (\"apple\", \"banana\", \"cherry\")\n",
        "\n",
        "is_kiwi_in_tuple = \"kiwi\" in fruits_tuple\n",
        "\n",
        "print(is_kiwi_in_tuple)"
      ],
      "metadata": {
        "colab": {
          "base_uri": "https://localhost:8080/"
        },
        "id": "Ni-lA8vfjhxG",
        "outputId": "c33ef505-b7f3-4943-86ac-993ede4866a3"
      },
      "execution_count": 18,
      "outputs": [
        {
          "output_type": "stream",
          "name": "stdout",
          "text": [
            "False\n"
          ]
        }
      ]
    },
    {
      "cell_type": "code",
      "source": [
        "#16.Write a code to create a set with the elements 'a', 'b', 'c' and print it.\n",
        "my_set = {'a', 'b', 'c'}\n",
        "\n",
        "print(my_set)\n"
      ],
      "metadata": {
        "colab": {
          "base_uri": "https://localhost:8080/"
        },
        "id": "x9Ywe7H4j0in",
        "outputId": "5e5ab03a-adbe-4825-c0c9-2cc359ad887a"
      },
      "execution_count": 20,
      "outputs": [
        {
          "output_type": "stream",
          "name": "stdout",
          "text": [
            "{'a', 'b', 'c'}\n"
          ]
        }
      ]
    },
    {
      "cell_type": "code",
      "source": [
        "#17. Write a code to clear all elements from the set {1, 2, 3, 4, 5}.\n",
        "my_set = {1, 2, 3, 4, 5}\n",
        "\n",
        "my_set.clear()\n",
        "\n",
        "print(my_set)"
      ],
      "metadata": {
        "colab": {
          "base_uri": "https://localhost:8080/"
        },
        "id": "CnswlRhakWEf",
        "outputId": "4cfc4143-ee9c-4695-8c98-364788ca4673"
      },
      "execution_count": 21,
      "outputs": [
        {
          "output_type": "stream",
          "name": "stdout",
          "text": [
            "set()\n"
          ]
        }
      ]
    },
    {
      "cell_type": "code",
      "source": [
        "#18. Write a code to remove the element 4 from the set {1, 2, 3, 4}.\n",
        "my_set = {1, 2, 3, 4}\n",
        "\n",
        "my_set.remove(4)\n",
        "\n",
        "print(my_set)"
      ],
      "metadata": {
        "colab": {
          "base_uri": "https://localhost:8080/"
        },
        "id": "4rM3ZqyXkxwN",
        "outputId": "b62014a0-25ff-48d4-9f5e-e765b5b91002"
      },
      "execution_count": 22,
      "outputs": [
        {
          "output_type": "stream",
          "name": "stdout",
          "text": [
            "{1, 2, 3}\n"
          ]
        }
      ]
    },
    {
      "cell_type": "code",
      "source": [
        "#19.Write a code to find the union of two sets {1, 2, 3} and {3, 4, 5}.\n",
        "set1 = {1, 2, 3}\n",
        "set2 = {3, 4, 5}\n",
        "\n",
        "union_set = set1.union(set2)\n",
        "\n",
        "print(union_set)"
      ],
      "metadata": {
        "colab": {
          "base_uri": "https://localhost:8080/"
        },
        "id": "aV8HoXTelCk5",
        "outputId": "036b57bb-8b30-475a-a11e-783c1e767f96"
      },
      "execution_count": 23,
      "outputs": [
        {
          "output_type": "stream",
          "name": "stdout",
          "text": [
            "{1, 2, 3, 4, 5}\n"
          ]
        }
      ]
    },
    {
      "cell_type": "code",
      "source": [
        "#20.Write a code to find the intersection of two sets {1, 2, 3} and {2, 3, 4}.\n",
        "set1 = {1, 2, 3}\n",
        "set2 = {2, 3, 4}\n",
        "\n",
        "intersection_set = set1.intersection(set2)\n",
        "\n",
        "print(intersection_set)\n"
      ],
      "metadata": {
        "colab": {
          "base_uri": "https://localhost:8080/"
        },
        "id": "4iHeoYp5lWzb",
        "outputId": "b12455ca-34b7-4f6c-92b0-8761c415269b"
      },
      "execution_count": 24,
      "outputs": [
        {
          "output_type": "stream",
          "name": "stdout",
          "text": [
            "{2, 3}\n"
          ]
        }
      ]
    },
    {
      "cell_type": "code",
      "source": [
        "#21. Write a code to create a dictionary with the keys \"name\", \"age\", and \"city\", and print it.\n",
        "my_dict = {\n",
        "\n",
        "\"name\":\"Minakshi\",\n",
        "\n",
        "\"age\": 22,\n",
        "\n",
        "\"city\": \"Nagpur\"\n",
        "\n",
        "}\n",
        "\n",
        "print(my_dict)"
      ],
      "metadata": {
        "colab": {
          "base_uri": "https://localhost:8080/"
        },
        "id": "82hI4Rcolssr",
        "outputId": "9bad95f4-25ec-4d80-ffb2-d1d2af2d8ec5"
      },
      "execution_count": 44,
      "outputs": [
        {
          "output_type": "stream",
          "name": "stdout",
          "text": [
            "{'name': 'Minakshi', 'age': 22, 'city': 'Nagpur'}\n"
          ]
        }
      ]
    },
    {
      "cell_type": "code",
      "source": [
        "#22. Write a code to add a new key-value pair \"country\": \"USA\" to the dictionary {'name': 'John', 'age': 25}.\n",
        "my_dict = {'name': 'john', 'age': 25}\n",
        "\n",
        "my_dict['country'] = 'USA'\n",
        "\n",
        "print(my_dict)\n"
      ],
      "metadata": {
        "colab": {
          "base_uri": "https://localhost:8080/"
        },
        "id": "Tk_hzVoRmKuc",
        "outputId": "0c5fa9d0-413b-4d1e-ee06-4dcf36673e9c"
      },
      "execution_count": 31,
      "outputs": [
        {
          "output_type": "stream",
          "name": "stdout",
          "text": [
            "{'name': 'john', 'age': 25, 'country': 'USA'}\n"
          ]
        }
      ]
    },
    {
      "cell_type": "code",
      "source": [
        "#23.Write a code to access the value associated with the key \"name\" in the dictionary {'name': 'Alice', 'age': 30}.\n",
        "my_dict = {'name': 'Alice', 'age': 30}\n",
        "\n",
        "name_value = my_dict['name']\n",
        "\n",
        "print(name_value)"
      ],
      "metadata": {
        "colab": {
          "base_uri": "https://localhost:8080/"
        },
        "id": "x4fx65iBmtkb",
        "outputId": "ec5dd0cc-360d-49c4-e932-16a3395c9609"
      },
      "execution_count": 32,
      "outputs": [
        {
          "output_type": "stream",
          "name": "stdout",
          "text": [
            "Alice\n"
          ]
        }
      ]
    },
    {
      "cell_type": "code",
      "source": [
        "#24. Write a code to remove the key \"age\" from the dictionary {'name': 'Bob', 'age': 22, 'city': 'New York'}.\n",
        "my_dict = {'name': 'Bob', 'age': 22, 'city': 'New York'}\n",
        "\n",
        "del my_dict['age']\n",
        "\n",
        "print(my_dict)\n"
      ],
      "metadata": {
        "colab": {
          "base_uri": "https://localhost:8080/"
        },
        "id": "wb_KJVO-nKPU",
        "outputId": "5ecf0e5e-1ddf-4d27-e0f4-0ebfe064dfea"
      },
      "execution_count": 33,
      "outputs": [
        {
          "output_type": "stream",
          "name": "stdout",
          "text": [
            "{'name': 'Bob', 'city': 'New York'}\n"
          ]
        }
      ]
    },
    {
      "cell_type": "code",
      "source": [
        "#25. Write a code to check if the key \"city\" exists in the dictionary {'name': 'Alice', 'city': 'Paris'}.\n",
        "my_dict = {'name': 'Alice', 'city': 'Paris'}\n",
        "\n",
        "city_exists = 'city' in my_dict\n",
        "\n",
        "print(city_exists)"
      ],
      "metadata": {
        "colab": {
          "base_uri": "https://localhost:8080/"
        },
        "id": "YeprSI9posrW",
        "outputId": "970e3d08-e2c7-4acf-bb44-f0318e106c67"
      },
      "execution_count": 34,
      "outputs": [
        {
          "output_type": "stream",
          "name": "stdout",
          "text": [
            "True\n"
          ]
        }
      ]
    },
    {
      "cell_type": "code",
      "source": [
        "#26.Write a code to create a list, a tuple, and a dictionary, and print them all.\n",
        "my_list = [10, 20, 30, 40, 50]\n",
        "my_tuple = (\"apple\", \"banana\", \"cherry\")\n",
        "my_dict = {\n",
        "    \"name\": \"Alice\",\n",
        "    \"age\": 25,\n",
        "    \"city\": \"Mumbai\"\n",
        "}\n",
        "print(\"List:\", my_list)\n",
        "print(\"Tuple:\", my_tuple)\n",
        "print(\"Dictionary:\", my_dict)\n"
      ],
      "metadata": {
        "colab": {
          "base_uri": "https://localhost:8080/"
        },
        "id": "dd7iAmTfpUd0",
        "outputId": "feb85b1a-6c7a-4f1a-aed1-544426068eda"
      },
      "execution_count": 45,
      "outputs": [
        {
          "output_type": "stream",
          "name": "stdout",
          "text": [
            "List: [10, 20, 30, 40, 50]\n",
            "Tuple: ('apple', 'banana', 'cherry')\n",
            "Dictionary: {'name': 'Alice', 'age': 25, 'city': 'Mumbai'}\n"
          ]
        }
      ]
    },
    {
      "cell_type": "code",
      "source": [
        "#27.Write a code to create a list of 5 random numbers between 1 and 100, sort it in ascending order, and print the result.(replaed).\n",
        "import random\n",
        "\n",
        "random_numbers = [random.randint(1, 100) for _ in range(5)]\n",
        "\n",
        "random_numbers.sort()\n",
        "\n",
        "print(random_numbers)"
      ],
      "metadata": {
        "colab": {
          "base_uri": "https://localhost:8080/"
        },
        "id": "vBxsQSIrtYr_",
        "outputId": "f680f4d2-f654-4836-d657-a78d0135e357"
      },
      "execution_count": 54,
      "outputs": [
        {
          "output_type": "stream",
          "name": "stdout",
          "text": [
            "[17, 39, 64, 82, 86]\n"
          ]
        }
      ]
    },
    {
      "cell_type": "code",
      "source": [
        "#28. Write a code to create a list with strings and print the element at the third index.\n",
        "my_list = [\"apple\", \"banana\", \"cherry\", \"date\", \"elderberry\"]\n",
        "\n",
        "third_element = my_list[2]\n",
        "\n",
        "print(third_element)\n",
        "\n"
      ],
      "metadata": {
        "colab": {
          "base_uri": "https://localhost:8080/"
        },
        "id": "KtIynYafuOIn",
        "outputId": "8a089776-ad99-45f4-e7b5-41060e712a9f"
      },
      "execution_count": 55,
      "outputs": [
        {
          "output_type": "stream",
          "name": "stdout",
          "text": [
            "cherry\n"
          ]
        }
      ]
    },
    {
      "cell_type": "code",
      "source": [
        "#29. Write a code to combine two dictionaries into one and print the result.\n",
        "my_dict1 = {'a': 1, 'b': 2}\n",
        "\n",
        "my_dict2 = {'c': 3, 'd': 4}\n",
        "\n",
        "combined_dict = {**my_dict1, **my_dict2}\n",
        "\n",
        "print(combined_dict)\n"
      ],
      "metadata": {
        "colab": {
          "base_uri": "https://localhost:8080/"
        },
        "id": "rbXLBPA9umzD",
        "outputId": "feeae54b-4ae1-4149-c878-77f09481fbca"
      },
      "execution_count": 56,
      "outputs": [
        {
          "output_type": "stream",
          "name": "stdout",
          "text": [
            "{'a': 1, 'b': 2, 'c': 3, 'd': 4}\n"
          ]
        }
      ]
    },
    {
      "cell_type": "code",
      "source": [
        "#30. Write a code to convert a list of strings into a set.\n",
        "my_list = [\"apple\", \"banana\", \"cherry\", \"date\", \"elderberry\"]\n",
        "\n",
        "my_set = set(my_list)\n",
        "\n",
        "print(my_set)\n"
      ],
      "metadata": {
        "colab": {
          "base_uri": "https://localhost:8080/"
        },
        "id": "OPs0KS48u2dF",
        "outputId": "09a0af3f-8bc6-4f69-a1c0-336dfac015e0"
      },
      "execution_count": 57,
      "outputs": [
        {
          "output_type": "stream",
          "name": "stdout",
          "text": [
            "{'banana', 'apple', 'cherry', 'elderberry', 'date'}\n"
          ]
        }
      ]
    }
  ]
}