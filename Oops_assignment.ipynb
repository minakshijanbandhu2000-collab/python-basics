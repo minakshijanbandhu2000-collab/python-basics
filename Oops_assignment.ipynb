{
  "nbformat": 4,
  "nbformat_minor": 0,
  "metadata": {
    "colab": {
      "provenance": []
    },
    "kernelspec": {
      "name": "python3",
      "display_name": "Python 3"
    },
    "language_info": {
      "name": "python"
    }
  },
  "cells": [
    {
      "cell_type": "markdown",
      "source": [
        "#Oops"
      ],
      "metadata": {
        "id": "DAAGn3kM0_HE"
      }
    },
    {
      "cell_type": "markdown",
      "source": [
        "# 1. What is Object-Oriented Programming (OOP)?\n",
        " - Object-Oriented Programming (OOP) is a programming approach that uses objects and classes to design, organize, and structure software. It emphasizes:\n",
        "\n",
        "1. Encapsulation (bundling data and methods)\n",
        "2. Abstraction (hiding internal details)\n",
        "3. Inheritance (creating new classes from existing ones)\n",
        "4. Polymorphism (objects taking multiple forms)\n",
        "\n",
        "OOP helps create reusable, modular, and maintainable code.\n",
        "\n",
        "#2.  What is a class in OOP?\n",
        "- Class: A blueprint or template that defines the properties and behavior of an object. It specifies the data (attributes) and methods (functions) that objects created from the class will have.\n",
        "\n",
        "     Think of a class as a template for creating objects.\n",
        "\n",
        "#3.  What is an object in OOP?\n",
        "- Object: An instance of a class, which has its own set of attributes (data) and methods (functions). Objects represent real-world entities or concepts and have their own state and behavior.\n",
        "\n",
        "#4.  What is the difference between abstraction and encapsulation?\n",
        "- Abstraction and Encapsulation are related but distinct concepts in Object-Oriented Programming (OOP):\n",
        "\n",
        "Abstraction:\n",
        "\n",
        "- Focuses on hiding internal implementation details and showing only the necessary information to the outside world.\n",
        "- Helps to reduce complexity by exposing only the essential features of an object or system.\n",
        "- Example: A car's accelerator pedal abstracts the complex engine mechanics, allowing you to control speed without knowing the details.\n",
        "\n",
        "Encapsulation:\n",
        "\n",
        "- Focuses on bundling data and its methods that operate on that data within a single unit (class or object).\n",
        "- Helps to control access to the data and ensure data integrity by hiding it from external interference.\n",
        "- Example: A bank account class encapsulates the account balance and provides methods to deposit, withdraw, or check the balance.\n",
        "\n",
        "#5. What are dunder methods in Python?\n",
        "- Dunder Methods (short for \"double underscore\" methods) in Python are special methods that are surrounded by double underscores (__) on either side of the method name. These methods are used to define custom behavior for objects of a class, such as:\n",
        "\n",
        "1. Initialization and representation:\n",
        "    - __init__: Initializes an object.\n",
        "    - __repr__: Returns a string representation of an object.\n",
        "    - __str__: Returns a human-readable string representation of an object.\n",
        "2. Arithmetic operations:\n",
        "    - __add__: Defines the behavior for the + operator.\n",
        "    - __sub__: Defines the behavior for the - operator.\n",
        "    - __mul__: Defines the behavior for the * operator.\n",
        "3. Comparison operations:\n",
        "    - __eq__: Defines the behavior for the == operator.\n",
        "    - __lt__: Defines the behavior for the < operator.\n",
        "    - __gt__: Defines the behavior for the > operator.\n",
        "4. Container operations:\n",
        "    - __len__: Returns the length of a container.\n",
        "    - __getitem__: Defines the behavior for indexing (e.g., my_list[0]).\n",
        "    - __setitem__: Defines the behavior for assigning to an index (e.g., my_list[0] = 'value').\n",
        "\n",
        "#6.  Explain the concept of inheritance in OOP.\n",
        "- Inheritance in Object-Oriented Programming (OOP) is a mechanism where a new class (the subclass or derived class) inherits the properties and behavior of an existing class (the superclass or base class). The subclass inherits all the attributes and methods of the superclass and can also add new attributes and methods or override the ones inherited from the superclass.\n",
        "\n",
        "Key benefits:\n",
        "\n",
        "1. Code reuse: Inheritance allows for code reuse by inheriting the common attributes and methods from the superclass.\n",
        "2. Hierarchical relationships: Inheritance helps to model hierarchical relationships between classes, where a subclass is a specialized version of the superclass.\n",
        "3. Easier maintenance: Changes to the superclass can automatically be reflected in the subclasses.\n",
        "\n",
        "\n",
        "\n",
        "#7.  What is polymorphism in OOP?\n",
        "- Polymorphism in Object-Oriented Programming (OOP) is the ability of an object to take on multiple forms, depending on the context. This can be achieved through:\n",
        "\n",
        "1. Method overriding: A subclass provides a specific implementation for a method already defined in its superclass.\n",
        "2. Method overloading: Multiple methods with the same name but different parameters (not directly supported in Python).\n",
        "3. Function polymorphism: A function can work with different data types.\n",
        "\n",
        "#8.  How is encapsulation achieved in Python?\n",
        "- Encapsulation in Python is achieved by restricting direct access to class data and providing controlled access through methods:\n",
        "\n",
        "Use single underscore (_var) for protected members (convention).\n",
        "\n",
        "Use double underscore (__var) for private members (name mangling).\n",
        "\n",
        "Access/modify data via getter and setter methods or @property.\n",
        "\n",
        "#9. What is a constructor in Python?\n",
        "- In Python, a constructor is a special method named _init_() that is automatically called when an object of a class is created.\n",
        "\n",
        "     It is used to initialize object attributes.\n",
        "     Defined inside the class with the first parameter self.\n",
        "\n",
        "Example:\n",
        "\n",
        "class Student:\n",
        "    def _init_(self, name, age):  # constructor\n",
        "        self.name = name\n",
        "        self.age = age\n",
        "\n",
        "s1 = Student(\"Alice\", 20)  # constructor runs here\n",
        "print(s1.name, s1.age)     # Alice 20\n",
        "\n",
        "#10. What are class and static methods in Python?\n",
        "- Class Methods and Static Methods in Python are two types of methods that can be defined inside a class.\n",
        "\n",
        "Class Methods:\n",
        "\n",
        "- Decorated with @classmethod\n",
        "- Take the class itself as the first parameter (usually named cls)\n",
        "- Can access or modify class state\n",
        "- Can be used as an alternative constructor\n",
        "\n",
        "Static Methods:\n",
        "\n",
        "- Decorated with @staticmethod\n",
        "- Do not take any implicit parameters (like self or cls)\n",
        "- Cannot access or modify class or instance state\n",
        "- Used for utility functions that belong to the class but don't depend on its state\n",
        "\n",
        "#11. What is method overloading in Python?\n",
        "- Method Overloading is not directly supported in Python like it is in some other languages. However, you can achieve similar behavior using:\n",
        "\n",
        "1. Default argument values: Assigning default values to some or all of the method's parameters.\n",
        "2. Variable number of arguments: Using *args or **kwargs to accept a variable number of arguments.\n",
        "3. Type checking: Checking the type of the arguments inside the method and handling them accordingly.\n",
        "\n",
        "#12. What is method overriding in OOP?\n",
        "Method Overriding in Object-Oriented Programming (OOP) is a feature that allows a subclass to provide a specific implementation for a method that is already defined in its superclass. The subclass method has the same name, return type, and parameter list as the superclass method, but it can have a different implementation.\n",
        "\n",
        "Key aspects:\n",
        "\n",
        "1. Same method signature: The subclass method must have the same name, return type, and parameter list as the superclass method.\n",
        "2. Different implementation: The subclass method can have a different implementation than the superclass method.\n",
        "3. Polymorphism: Method overriding is a form of polymorphism, where objects of different classes can be treated as objects of a common superclass.\n",
        "\n",
        "#13. What is a property decorator in Python?\n",
        "- Property Decorator in Python is a way to implement getter, setter, and deleter functionality for instance attributes. It allows you to define methods that can be accessed like attributes.\n",
        "\n",
        "Benefits:\n",
        "\n",
        "1. Encapsulation: Properties help encapsulate internal state and behavior.\n",
        "2. Custom access: Properties enable custom getter, setter, and deleter logic.\n",
        "\n",
        "#14. Why is polymorphism important in OOP?\n",
        "- Polymorphism is important in Object-Oriented Programming (OOP) because it:\n",
        "\n",
        "1. Increases flexibility: Allows objects of different classes to be treated as objects of a common superclass.\n",
        "2. Enhances modularity: Enables writing code that can work with a variety of data types.\n",
        "3. Promotes code reuse: Reduces code duplication by allowing the same code to work with different objects.\n",
        "4. Improves maintainability: Makes it easier to add new functionality or modify existing code without affecting other parts of the program.\n",
        "#15. What is an abstract class in Python?\n",
        "- Abstract Class in Python is a class that cannot be instantiated on its own and is designed to be inherited by other classes. It provides a blueprint for other classes to follow and can define abstract methods that must be implemented by its subclasses.\n",
        "\n",
        "Key characteristics:\n",
        "\n",
        "1. Cannot be instantiated: Abstract classes cannot be created directly.\n",
        "2. Defines abstract methods: Abstract classes can define methods without implementation, which must be implemented by subclasses.\n",
        "3. Inherited by other classes: Abstract classes are designed to be inherited by other classes.\n",
        "\n",
        "#16. What are the advantages of OOP?\n",
        "- Advantages of Object-Oriented Programming (OOP):\n",
        "\n",
        "1. Modularity: OOP allows for breaking down a program into smaller, independent modules (classes) that can be easily maintained and reused.\n",
        "2. Reusability: Classes can be reused in multiple programs, reducing code duplication and improving productivity.\n",
        "3. Easier maintenance: OOP's modular nature makes it easier to modify or extend existing code without affecting other parts of the program.\n",
        "4. Improved readability: OOP's use of classes and objects makes code more readable and self-explanatory.\n",
        "5. Better abstraction: OOP allows for abstracting away complex implementation details, making code more modular and reusable.\n",
        "6. Increased flexibility: OOP's use of polymorphism and inheritance enables writing more flexible and generic code.\n",
        "7. Easier debugging: OOP's modular nature makes it easier to identify and fix errors.\n",
        "#17. What is the difference between a class variable and an instance variable?\n",
        "- Class Variable vs Instance Variable:\n",
        "\n",
        "1. Class Variable:\n",
        "    - Shared by all instances of the class.\n",
        "    - Defined at the class level.\n",
        "    - Accessed using the class name or instance.\n",
        "2. Instance Variable:\n",
        "    - Unique to each instance of the class.\n",
        "    - Defined inside a method (usually __init__).\n",
        "    - Accessed using the instance.\n",
        "\n",
        "#18.  What is multiple inheritance in Python?\n",
        "- Multiple Inheritance in Python:\n",
        "\n",
        "- A class can inherit properties and methods from more than one parent class.\n",
        "- Allows combining attributes and behaviors of multiple classes.\n",
        "- Increases flexibility and code reuse.\n",
        "- Python's Method Resolution Order (MRO) resolves potential conflicts.\n",
        "\n",
        "Example: class Dog(Animal, Mammal):\n",
        "#19. Explain the purpose of ‘’__str__’ and ‘__repr__’ ‘ methods in Python.\n",
        "- *__str__ and __repr__ Methods:*\n",
        "\n",
        "1. *__str__*:\n",
        "    - Returns a human-readable string representation of an object.\n",
        "    - Used for display purposes, such as printing or logging.\n",
        "    - Should return a string that is easy to understand and readable.\n",
        "2. *__repr__*:\n",
        "    - Returns a string representation of an object that is useful for debugging and logging.\n",
        "    - Ideally, the string should be a valid Python expression that could be used to recreate the object.\n",
        "    - Used for development and debugging purposes.\n",
        "#20. What is the significance of the ‘super()’ function in Python?\n",
        "- *super() Function:*\n",
        "\n",
        "The super() function in Python is used to access methods and properties of a parent class (also known as a superclass) from a child class. It allows you to:\n",
        "\n",
        "1. Call parent class methods: Use super() to call methods of the parent class, even if they are overridden in the child class.\n",
        "2. Access parent class properties: Use super() to access properties of the parent class.\n",
        "#21.  What is the significance of the __del__ method in Python?\n",
        "- *__del__ Method:*\n",
        "\n",
        "The __del__ method in Python is a special method that is called when an object is about to be destroyed. It is also known as a finalizer or destructor.\n",
        "\n",
        "Significance:\n",
        "\n",
        "1. Resource cleanup: The __del__ method can be used to release resources such as file handles, network connections, or database connections.\n",
        "2. Object finalization: It can be used to perform any necessary finalization tasks before an object is destroyed.\n",
        "#22. What is the difference between @staticmethod and @classmethod in Python?\n",
        "- *@staticmethod vs @classmethod:*\n",
        "\n",
        "1. *@staticmethod*:\n",
        "    - A method that belongs to a class rather than an instance.\n",
        "    - Does not take any implicit parameters (like self or cls).\n",
        "    - Cannot access or modify class or instance state.\n",
        "    - Used for utility functions that belong to the class but don't depend on its state.\n",
        "2. *@classmethod*:\n",
        "    - A method that is bound to the class rather than an instance.\n",
        "    - Takes the class itself as the first parameter (usually named cls).\n",
        "    - Can access or modify class state.\n",
        "    - Used for alternative constructors or methods that need to access class-level data.\n",
        "\n",
        "#23. How does polymorphism work in Python with inheritance?\n",
        "- Polymorphism with Inheritance in Python:\n",
        "\n",
        "Polymorphism in Python allows objects of different classes to be treated as objects of a common superclass. When combined with inheritance, polymorphism enables you to:\n",
        "\n",
        "1. Override methods: A subclass can provide a specific implementation for a method already defined in its superclass.\n",
        "2. Use superclass references: You can use a superclass reference to call methods on objects of different subclasses.\n",
        "#24. What is method chaining in Python OOP?\n",
        "- Method Chaining in Python OOP:\n",
        "\n",
        "Method chaining is a technique in Python where multiple methods are called on the same object in a single line of code. Each method returns the object itself (self), allowing the next method to be called on the same object.\n",
        "\n",
        "Benefits:\n",
        "\n",
        "1. Improved readability: Method chaining makes code more concise and easier to read.\n",
        "2. Reduced temporary variables: You don't need to assign the result of each method to a temporary variable.\n",
        "\n",
        "#25. What is the purpose of the __call__ method in Python ?\n",
        "- *__call__ Method:*\n",
        "\n",
        "The __call__ method in Python is a special method that allows an instance of a class to be called as a function. It enables objects to behave like functions, making them callable.\n",
        "\n",
        "Purpose:\n",
        "\n",
        "1. Callable objects: The __call__ method allows objects to be used as functions, making them more flexible and reusable.\n",
        "2. Function-like behavior: Objects with a __call__ method can be used in situations where a function is expected.\n",
        "\n",
        "\n"
      ],
      "metadata": {
        "id": "Cd0Kjd151SJ3"
      }
    },
    {
      "cell_type": "code",
      "source": [
        "# 1. Create a parent class Animal with a method speak() that prints a generic message. Create a child class Dog that overrides the speak() method to print \"Bark!\".\n",
        "class Animal:\n",
        "    def speak(self):\n",
        "        print(\"This animal makes a sound.\")\n",
        "\n",
        "class Dog(Animal):\n",
        "    def speak(self):\n",
        "        print(\"Bark!\")\n",
        "\n",
        "animal = Animal()\n",
        "dog = Dog()\n",
        "\n",
        "animal.speak()\n",
        "dog.speak()"
      ],
      "metadata": {
        "colab": {
          "base_uri": "https://localhost:8080/"
        },
        "id": "z1lLWQLPBnZc",
        "outputId": "41039777-a2b2-4441-8a82-ee5350069830"
      },
      "execution_count": null,
      "outputs": [
        {
          "output_type": "stream",
          "name": "stdout",
          "text": [
            "This animal makes a sound.\n",
            "Bark!\n"
          ]
        }
      ]
    },
    {
      "cell_type": "code",
      "execution_count": null,
      "metadata": {
        "colab": {
          "base_uri": "https://localhost:8080/"
        },
        "id": "4Kddz45E0JOD",
        "outputId": "2ef346c7-74ce-4cf3-8b6b-b82333ebfda2"
      },
      "outputs": [
        {
          "output_type": "stream",
          "name": "stdout",
          "text": [
            "Circle area: 78.53981633974483\n",
            "Rectangle area: 24\n"
          ]
        }
      ],
      "source": [
        "# 2. Write a program to create an abstract class Shape with a method area(). Derive classes Circle and Rectangle from it and implement the area() method in both.from it and implement the area() method in both.\n",
        "from abc import ABC, abstractmethod\n",
        "import math\n",
        "\n",
        "class Shape(ABC):\n",
        "    @abstractmethod\n",
        "    def area(self):\n",
        "        pass\n",
        "\n",
        "class Circle(Shape):\n",
        "    def __init__(self, radius):\n",
        "        self.radius = radius\n",
        "\n",
        "    def area(self):\n",
        "        return math.pi * self.radius ** 2\n",
        "\n",
        "class Rectangle(Shape):\n",
        "    def __init__(self, length, width):\n",
        "        self.length = length\n",
        "        self.width = width\n",
        "\n",
        "    def area(self):\n",
        "        return self.length * self.width\n",
        "\n",
        "c = Circle(5)\n",
        "print(\"Circle area:\", c.area())\n",
        "\n",
        "r = Rectangle(4, 6)\n",
        "print(\"Rectangle area:\", r.area())"
      ]
    },
    {
      "cell_type": "code",
      "source": [
        "# 3. Implement a multi-level inheritance scenario where a class Vehicle has an attribute type. Derive a class Car and further derive a class ElectricCar that adds a battery attribute.\n",
        "# Base class\n",
        "class Vehicle:\n",
        "    def __init__(self, vehicle_type):\n",
        "        self.type = vehicle_type\n",
        "\n",
        "    def show_type(self):\n",
        "        print(f\"Vehicle type: {self.type}\")\n",
        "\n",
        "# Derived class\n",
        "class Car(Vehicle):\n",
        "    def __init__(self, brand, model, vehicle_type=\"Car\"):\n",
        "        super().__init__(vehicle_type)  # Call Vehicle constructor\n",
        "        self.brand = brand\n",
        "        self.model = model\n",
        "\n",
        "    def show_details(self):\n",
        "        print(f\"Car Brand: {self.brand}, Model: {self.model}\")\n",
        "\n",
        "# Further derived class\n",
        "class ElectricCar(Car):\n",
        "    def __init__(self, brand, model, battery_capacity):\n",
        "        super().__init__(brand, model)  # Call Car constructor\n",
        "        self.battery = battery_capacity\n",
        "\n",
        "    def show_info(self):\n",
        "        self.show_type()\n",
        "        self.show_details()\n",
        "        print(f\"Battery Capacity: {self.battery} kWh\")\n",
        "\n",
        "# Testing\n",
        "ev = ElectricCar(\"Tesla\", \"Model S\", 100)\n",
        "ev.show_info()"
      ],
      "metadata": {
        "colab": {
          "base_uri": "https://localhost:8080/"
        },
        "id": "LU2hSProEPXo",
        "outputId": "f4175656-d287-4c5e-9bb0-c0eb3e42e4e5"
      },
      "execution_count": null,
      "outputs": [
        {
          "output_type": "stream",
          "name": "stdout",
          "text": [
            "Vehicle type: Car\n",
            "Car Brand: Tesla, Model: Model S\n",
            "Battery Capacity: 100 kWh\n"
          ]
        }
      ]
    },
    {
      "cell_type": "code",
      "source": [
        "#4. Demonstrate polymorphism by creating a base class Bird with a method fly(). Create two derived classes Sparrow and Penguin that override the fly() method.\n",
        "# Base class\n",
        "class Bird:\n",
        "    def fly(self):\n",
        "        print(\"Some birds can fly.\")\n",
        "\n",
        "# Derived class Sparrow\n",
        "class Sparrow(Bird):\n",
        "    def fly(self):   # Overriding\n",
        "        print(\"Sparrow can fly high in the sky!\")\n",
        "\n",
        "# Derived class Penguin\n",
        "class Penguin(Bird):\n",
        "    def fly(self):   # Overriding\n",
        "        print(\"Penguins cannot fly, they swim instead!\")\n",
        "\n",
        "# Function to demonstrate polymorphism\n",
        "def show_flight(bird):\n",
        "    bird.fly()\n",
        "\n",
        "# Testing\n",
        "sparrow = Sparrow()\n",
        "penguin = Penguin()\n",
        "\n",
        "show_flight(sparrow)   # Calls Sparrow's fly()\n",
        "show_flight(penguin)   # Calls Penguin's fly()\n"
      ],
      "metadata": {
        "colab": {
          "base_uri": "https://localhost:8080/"
        },
        "id": "EKI757KQIhP5",
        "outputId": "058be9ab-8ff3-462c-d18b-e7a738a1a5ef"
      },
      "execution_count": null,
      "outputs": [
        {
          "output_type": "stream",
          "name": "stdout",
          "text": [
            "Sparrow can fly high in the sky!\n",
            "Penguins cannot fly, they swim instead!\n"
          ]
        }
      ]
    },
    {
      "cell_type": "code",
      "source": [
        "#5. Write a program to demonstrate encapsulation by creating a class BankAccount with private attributes balance and methods to deposit, withdraw, and check balance.\n",
        "class BankAccount:\n",
        "    def __init__(self, initial_balance=0):\n",
        "        self.__balance = initial_balance   # private attribute\n",
        "\n",
        "    # Method to deposit money\n",
        "    def deposit(self, amount):\n",
        "        if amount > 0:\n",
        "            self.__balance += amount\n",
        "            print(f\"Deposited: {amount}\")\n",
        "        else:\n",
        "            print(\"Deposit amount must be positive!\")\n",
        "\n",
        "    # Method to withdraw money\n",
        "    def withdraw(self, amount):\n",
        "        if 0 < amount <= self.__balance:\n",
        "            self.__balance -= amount\n",
        "            print(f\"Withdrew: {amount}\")\n",
        "        else:\n",
        "            print(\"Insufficient balance or invalid amount!\")\n",
        "\n",
        "    # Method to check balance\n",
        "    def check_balance(self):\n",
        "        print(f\"Current Balance: {self.__balance}\")\n",
        "\n",
        "\n",
        "# Testing Encapsulation\n",
        "account = BankAccount(1000)   # Initial balance: 1000\n",
        "\n",
        "account.deposit(500)          # Deposit\n",
        "account.withdraw(200)         # Withdraw\n",
        "account.check_balance()"
      ],
      "metadata": {
        "colab": {
          "base_uri": "https://localhost:8080/"
        },
        "id": "HHjyMwV3IxqG",
        "outputId": "c3072fb8-b8a8-4316-b043-1812d8c8ee1f"
      },
      "execution_count": null,
      "outputs": [
        {
          "output_type": "stream",
          "name": "stdout",
          "text": [
            "Deposited: 500\n",
            "Withdrew: 200\n",
            "Current Balance: 1300\n"
          ]
        }
      ]
    },
    {
      "cell_type": "code",
      "source": [
        "#6. Demonstrate runtime polymorphism using a method play() in a base class Instrument. Derive classes Guitar and Piano that implement their own version of play().\n",
        "# Base class\n",
        "class Instrument:\n",
        "    def play(self):\n",
        "        print(\"An instrument is being played.\")\n",
        "\n",
        "# Derived class Guitar\n",
        "class Guitar(Instrument):\n",
        "    def play(self):   # Overriding play()\n",
        "        print(\"Strumming the guitar 🎸\")\n",
        "\n",
        "# Derived class Piano\n",
        "class Piano(Instrument):\n",
        "    def play(self):   # Overriding play()\n",
        "        print(\"Playing the piano 🎹\")\n",
        "\n",
        "# Function to demonstrate polymorphism\n",
        "def start_playing(instrument):\n",
        "    instrument.play()\n",
        "\n",
        "# Testing runtime polymorphism\n",
        "g = Guitar()\n",
        "p = Piano()\n",
        "\n",
        "start_playing(g)   # Calls Guitar's play()\n",
        "start_playing(p)   # Calls Piano's play()"
      ],
      "metadata": {
        "colab": {
          "base_uri": "https://localhost:8080/"
        },
        "id": "kQTu8nKDJJjm",
        "outputId": "81c8886d-b02f-480e-b562-85ed9b543e69"
      },
      "execution_count": null,
      "outputs": [
        {
          "output_type": "stream",
          "name": "stdout",
          "text": [
            "Strumming the guitar 🎸\n",
            "Playing the piano 🎹\n"
          ]
        }
      ]
    },
    {
      "cell_type": "code",
      "source": [
        " #7. Create a class MathOperations with a class method add_numbers() to add two numbers and a static method subtract_numbers() to subtract two numbers.\n",
        " class MathOperations:\n",
        "    # Class method (works with cls, can access class-level data if needed)\n",
        "    @classmethod\n",
        "    def add_numbers(cls, a, b):\n",
        "        return a + b\n",
        "\n",
        "    # Static method (does not need class or instance reference)\n",
        "    @staticmethod\n",
        "    def subtract_numbers(a, b):\n",
        "        return a - b\n",
        "\n",
        "\n",
        "# Testing\n",
        "print(\"Addition:\", MathOperations.add_numbers(10, 5))     # Using class method\n",
        "print(\"Subtraction:\", MathOperations.subtract_numbers(10, 5))  # Using static method"
      ],
      "metadata": {
        "colab": {
          "base_uri": "https://localhost:8080/"
        },
        "id": "txj_88U1JXW_",
        "outputId": "f33a4bda-1b4a-4b00-b813-167a83c99ee3"
      },
      "execution_count": null,
      "outputs": [
        {
          "output_type": "stream",
          "name": "stdout",
          "text": [
            "Addition: 15\n",
            "Subtraction: 5\n"
          ]
        }
      ]
    },
    {
      "cell_type": "code",
      "source": [
        "#8. Implement a class Person with a class method to count the total number of persons created.\n",
        "class Person:\n",
        "    # Class variable to keep count\n",
        "    count = 0\n",
        "\n",
        "    def __init__(self, name):\n",
        "        self.name = name\n",
        "        Person.count += 1   # Increment count when a new object is created\n",
        "\n",
        "    # Class method to get total count\n",
        "    @classmethod\n",
        "    def total_persons(cls):\n",
        "        return cls.count\n",
        "\n",
        "\n",
        "# Testing\n",
        "p1 = Person(\"Alice\")\n",
        "p2 = Person(\"Bob\")\n",
        "p3 = Person(\"Charlie\")\n",
        "\n",
        "print(\"Total Persons created:\", Person.total_persons())"
      ],
      "metadata": {
        "colab": {
          "base_uri": "https://localhost:8080/"
        },
        "id": "XkgSc_laJmd0",
        "outputId": "b3e00ea5-9cd5-433e-cfc5-ac05c5958e03"
      },
      "execution_count": null,
      "outputs": [
        {
          "output_type": "stream",
          "name": "stdout",
          "text": [
            "Total Persons created: 3\n"
          ]
        }
      ]
    },
    {
      "cell_type": "code",
      "source": [
        "# 9. Write a class Fraction with attributes numerator and denominator. Override the str method to display the fraction as \"numerator/denominator\".\n",
        "class Fraction:\n",
        "    def __init__(self, numerator, denominator):\n",
        "        self.numerator = numerator\n",
        "        self.denominator = denominator\n",
        "\n",
        "    # Override __str__ method\n",
        "    def __str__(self):\n",
        "        return f\"{self.numerator}/{self.denominator}\"\n",
        "\n",
        "\n",
        "# Testing\n",
        "f1 = Fraction(3, 4)\n",
        "f2 = Fraction(5, 8)\n",
        "\n",
        "print(f1)\n",
        "print(f2)"
      ],
      "metadata": {
        "colab": {
          "base_uri": "https://localhost:8080/"
        },
        "id": "-o5UAVoyJxo-",
        "outputId": "e37c1ad7-c51a-4101-c4d6-40949cff8762"
      },
      "execution_count": null,
      "outputs": [
        {
          "output_type": "stream",
          "name": "stdout",
          "text": [
            "3/4\n",
            "5/8\n"
          ]
        }
      ]
    },
    {
      "cell_type": "code",
      "source": [
        "# 10. Demonstrate operator overloading by creating a class Vector and overriding the add method to add two vectors.\n",
        "class Vector:\n",
        "    def __init__(self, x, y):\n",
        "        self.x = x\n",
        "        self.y = y\n",
        "\n",
        "    # Overriding the + operator\n",
        "    def __add__(self, other):\n",
        "        return Vector(self.x + other.x, self.y + other.y)\n",
        "\n",
        "    # For readable output\n",
        "    def __str__(self):\n",
        "        return f\"({self.x}, {self.y})\"\n",
        "\n",
        "\n",
        "# Testing\n",
        "v1 = Vector(2, 3)\n",
        "v2 = Vector(4, 5)\n",
        "\n",
        "v3 = v1 + v2   # Calls __add__ method\n",
        "print(\"Vector Addition:\", v3)"
      ],
      "metadata": {
        "colab": {
          "base_uri": "https://localhost:8080/"
        },
        "id": "FLum9B8uKB-d",
        "outputId": "f673c994-e366-4b6e-803b-3f2e5f81ebc2"
      },
      "execution_count": null,
      "outputs": [
        {
          "output_type": "stream",
          "name": "stdout",
          "text": [
            "Vector Addition: (6, 8)\n"
          ]
        }
      ]
    },
    {
      "cell_type": "code",
      "source": [
        "#11. Create a class Person with attributes name and age. Add a method greet() that prints \"Hello, my name is {name} and I am {age} years old.\"\n",
        "class Person:\n",
        "    def __init__(self, name, age):\n",
        "        self.name = name\n",
        "        self.age = age\n",
        "\n",
        "    # Method to greet\n",
        "    def greet(self):\n",
        "        print(f\"Hello, my name is {self.name} and I am {self.age} years old.\")\n",
        "\n",
        "\n",
        "# Testing\n",
        "person1 = Person(\"Minakshi\", 24)\n",
        "person2 = Person(\"Jayshree\", 23)\n",
        "\n",
        "person1.greet()   # Output: Hello, my name is Alice and I am 25 years old.\n",
        "person2.greet()   # Output: Hello, my name is Bob and I am 30 years old."
      ],
      "metadata": {
        "colab": {
          "base_uri": "https://localhost:8080/"
        },
        "id": "sIyywGJwKOd_",
        "outputId": "3655a161-08b3-42f5-93dc-a3110fa8ce62"
      },
      "execution_count": null,
      "outputs": [
        {
          "output_type": "stream",
          "name": "stdout",
          "text": [
            "Hello, my name is Minakshi and I am 24 years old.\n",
            "Hello, my name is Jayshree and I am 23 years old.\n"
          ]
        }
      ]
    },
    {
      "cell_type": "code",
      "source": [
        " #12. Implement a class Student with attributes name and grades. Create a method average_grade() to compute the average of the grades.\n",
        " class Student:\n",
        "    def __init__(self, name, grades):\n",
        "        self.name = name\n",
        "        self.grades = grades  # List of numeric grades\n",
        "\n",
        "    # Method to compute average grade\n",
        "    def average_grade(self):\n",
        "        if len(self.grades) == 0:\n",
        "            return 0\n",
        "        return sum(self.grades) / len(self.grades)\n",
        "\n",
        "\n",
        "# Testing\n",
        "student1 = Student(\"Minakshi\", [85, 90, 78, 92])\n",
        "student2 = Student(\"jayshree\", [70, 75, 80])\n",
        "\n",
        "print(f\"{student1.name}'s average grade: {student1.average_grade():.2f}\")\n",
        "print(f\"{student2.name}'s average grade: {student2.average_grade():.2f}\")"
      ],
      "metadata": {
        "colab": {
          "base_uri": "https://localhost:8080/"
        },
        "id": "BNVq1K4dKmGB",
        "outputId": "c22484ed-0e6f-43a6-fa2c-798926dc9ce1"
      },
      "execution_count": null,
      "outputs": [
        {
          "output_type": "stream",
          "name": "stdout",
          "text": [
            "Minakshi's average grade: 86.25\n",
            "jayshree's average grade: 75.00\n"
          ]
        }
      ]
    },
    {
      "cell_type": "code",
      "source": [
        "# 13. Create a class Rectangle with methods set_dimensions() to set the dimensions and area() to calculate the area.\n",
        "class Rectangle:\n",
        "    def __init__(self):\n",
        "        self.length = 0\n",
        "        self.width = 0\n",
        "\n",
        "    # Method to set dimensions\n",
        "    def set_dimensions(self, length, width):\n",
        "        self.length = length\n",
        "        self.width = width\n",
        "\n",
        "    # Method to calculate area\n",
        "    def area(self):\n",
        "        return self.length * self.width\n",
        "\n",
        "\n",
        "# Testing\n",
        "rect = Rectangle()\n",
        "rect.set_dimensions(5, 3)\n",
        "print(\"Area of rectangle:\", rect.area())"
      ],
      "metadata": {
        "colab": {
          "base_uri": "https://localhost:8080/"
        },
        "id": "2yXDvvVmK4pq",
        "outputId": "5ff52c58-9820-431c-89e8-c6a328d5f89b"
      },
      "execution_count": null,
      "outputs": [
        {
          "output_type": "stream",
          "name": "stdout",
          "text": [
            "Area of rectangle: 15\n"
          ]
        }
      ]
    },
    {
      "cell_type": "code",
      "source": [
        "# 14. Create a class Employee with a method calculate_salary() that computes the salary based on hours worked and hourly rate. Create a derived class Manager that adds a bonus to the salary.\n",
        "# Base class\n",
        "class Employee:\n",
        "    def __init__(self, name, hours_worked, hourly_rate):\n",
        "        self.name = name\n",
        "        self.hours_worked = hours_worked\n",
        "        self.hourly_rate = hourly_rate\n",
        "\n",
        "    # Method to calculate salary\n",
        "    def calculate_salary(self):\n",
        "        return self.hours_worked * self.hourly_rate\n",
        "\n",
        "\n",
        "# Derived class\n",
        "class Manager(Employee):\n",
        "    def __init__(self, name, hours_worked, hourly_rate, bonus):\n",
        "        super().__init__(name, hours_worked, hourly_rate)\n",
        "        self.bonus = bonus\n",
        "\n",
        "    # Override calculate_salary to add bonus\n",
        "    def calculate_salary(self):\n",
        "        base_salary = super().calculate_salary()\n",
        "        return base_salary + self.bonus\n",
        "\n",
        "\n",
        "# Testing\n",
        "emp = Employee(\"Minakshi\", 40, 20)\n",
        "mgr = Manager(\"Jayshree\", 40, 25, 500)\n",
        "\n",
        "print(f\"{emp.name}'s salary: ${emp.calculate_salary()}\")\n",
        "print(f\"{mgr.name}'s salary: ${mgr.calculate_salary()}\")\n"
      ],
      "metadata": {
        "colab": {
          "base_uri": "https://localhost:8080/"
        },
        "id": "8dT048srLJT8",
        "outputId": "1d51b766-f8b8-4667-f2e0-94ffacafe35c"
      },
      "execution_count": null,
      "outputs": [
        {
          "output_type": "stream",
          "name": "stdout",
          "text": [
            "Minakshi's salary: $800\n",
            "Jayshree's salary: $1500\n"
          ]
        }
      ]
    },
    {
      "cell_type": "code",
      "source": [
        "#15. Create a class Product with attributes name, price, and quantity. Implement a method total_price() that calculates the total price of the product.\n",
        "class Product:\n",
        "    def __init__(self, name, price, quantity):\n",
        "        self.name = name\n",
        "        self.price = price\n",
        "        self.quantity = quantity\n",
        "\n",
        "    # Method to calculate total price\n",
        "    def total_price(self):\n",
        "        return self.price * self.quantity\n",
        "\n",
        "\n",
        "# Testing\n",
        "product1 = Product(\"Laptop\", 800, 3)\n",
        "product2 = Product(\"Phone\", 500, 5)\n",
        "\n",
        "print(f\"Total price of {product1.name}: ${product1.total_price()}\")\n",
        "print(f\"Total price of {product2.name}: ${product2.total_price()}\")"
      ],
      "metadata": {
        "colab": {
          "base_uri": "https://localhost:8080/"
        },
        "id": "h5T2tz7uLkXB",
        "outputId": "3494a470-edd8-4710-c6cf-117da55c6edf"
      },
      "execution_count": null,
      "outputs": [
        {
          "output_type": "stream",
          "name": "stdout",
          "text": [
            "Total price of Laptop: $2400\n",
            "Total price of Phone: $2500\n"
          ]
        }
      ]
    },
    {
      "cell_type": "code",
      "source": [
        "# 16. Create a class Animal with an abstract method sound(). Create two derived classes Cow and Sheep that implement the sound() method.\n",
        "from abc import ABC, abstractmethod\n",
        "\n",
        "# Abstract base class\n",
        "class Animal(ABC):\n",
        "\n",
        "    @abstractmethod\n",
        "    def sound(self):\n",
        "        pass  # Abstract method\n",
        "\n",
        "\n",
        "# Derived class Cow\n",
        "class Cow(Animal):\n",
        "    def sound(self):\n",
        "        print(\"Cow says: Moo!\")\n",
        "\n",
        "\n",
        "# Derived class Sheep\n",
        "class Sheep(Animal):\n",
        "    def sound(self):\n",
        "        print(\"Sheep says: Baa!\")\n",
        "\n",
        "\n",
        "# Testing\n",
        "cow = Cow()\n",
        "sheep = Sheep()\n",
        "\n",
        "cow.sound()\n",
        "sheep.sound()"
      ],
      "metadata": {
        "colab": {
          "base_uri": "https://localhost:8080/"
        },
        "id": "VR4F0A_3L0_R",
        "outputId": "7b311618-ea46-4586-82eb-532af5b34d87"
      },
      "execution_count": null,
      "outputs": [
        {
          "output_type": "stream",
          "name": "stdout",
          "text": [
            "Cow says: Moo!\n",
            "Sheep says: Baa!\n"
          ]
        }
      ]
    },
    {
      "cell_type": "code",
      "source": [
        "#17. Create a class Book with attributes title, author, and year_published. Add a method get_book_info() that returns a formatted string with the book's details.\n",
        "class Book:\n",
        "    def __init__(self, title, author, year_published):\n",
        "        self.title = title\n",
        "        self.author = author\n",
        "        self.year_published = year_published\n",
        "\n",
        "    # Method to return formatted book information\n",
        "    def get_book_info(self):\n",
        "        return f\"Title: {self.title}, Author: {self.author}, Year Published: {self.year_published}\"\n",
        "\n",
        "\n",
        "# Testing\n",
        "book1 = Book(\"To Kill a Mockingbird\", \"Harper Lee\", 1960)\n",
        "book2 = Book(\"1984\", \"George Orwell\", 1949)\n",
        "\n",
        "print(book1.get_book_info())\n",
        "print(book2.get_book_info())"
      ],
      "metadata": {
        "colab": {
          "base_uri": "https://localhost:8080/"
        },
        "id": "iw2a7WRuMEwg",
        "outputId": "9d9a82a8-285f-4583-f448-909f9a3f621a"
      },
      "execution_count": null,
      "outputs": [
        {
          "output_type": "stream",
          "name": "stdout",
          "text": [
            "Title: To Kill a Mockingbird, Author: Harper Lee, Year Published: 1960\n",
            "Title: 1984, Author: George Orwell, Year Published: 1949\n"
          ]
        }
      ]
    },
    {
      "cell_type": "code",
      "source": [
        "# 18. Create a class House with attributes address and price. Create a derived class Mansion that adds an attribute number_of_rooms.\n",
        "# Base class\n",
        "class House:\n",
        "    def __init__(self, address, price):\n",
        "        self.address = address\n",
        "        self.price = price\n",
        "\n",
        "    def show_info(self):\n",
        "        print(f\"Address: {self.address}, Price: ${self.price}\")\n",
        "\n",
        "\n",
        "# Derived class\n",
        "class Mansion(House):\n",
        "    def __init__(self, address, price, number_of_rooms):\n",
        "        super().__init__(address, price)  # Call base class constructor\n",
        "        self.number_of_rooms = number_of_rooms\n",
        "\n",
        "    def show_info(self):\n",
        "        super().show_info()  # Call base class method\n",
        "        print(f\"Number of Rooms: {self.number_of_rooms}\")\n",
        "\n",
        "\n",
        "# Testing\n",
        "house = House(\"123 Main St\", 200000)\n",
        "mansion = Mansion(\"456 Luxury Ave\", 2000000, 10)\n",
        "\n",
        "house.show_info()\n",
        "print(\"---\")\n",
        "mansion.show_info()"
      ],
      "metadata": {
        "colab": {
          "base_uri": "https://localhost:8080/"
        },
        "id": "GHP4yqf0MRpo",
        "outputId": "6273fd2f-3fed-4be3-e555-eda9827d6b97"
      },
      "execution_count": null,
      "outputs": [
        {
          "output_type": "stream",
          "name": "stdout",
          "text": [
            "Address: 123 Main St, Price: $200000\n",
            "---\n",
            "Address: 456 Luxury Ave, Price: $2000000\n",
            "Number of Rooms: 10\n"
          ]
        }
      ]
    }
  ]
}