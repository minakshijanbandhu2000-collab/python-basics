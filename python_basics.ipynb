{
  "nbformat": 4,
  "nbformat_minor": 0,
  "metadata": {
    "colab": {
      "provenance": []
    },
    "kernelspec": {
      "name": "python3",
      "display_name": "Python 3"
    },
    "language_info": {
      "name": "python"
    }
  },
  "cells": [
    {
      "cell_type": "markdown",
      "source": [
        "# Python Basics"
      ],
      "metadata": {
        "id": "SmbQexB4Q6HQ"
      }
    },
    {
      "cell_type": "markdown",
      "source": [
        "1.What is Python, and why is it popular?\n",
        "  - Python is a high-level, interpreted programming language known for its simplicity and readability. Why is Python Popular?\n",
        "  1.Easy to Learn and Read\n",
        "  2.Cross-Platform\n",
        "  3.Community Support\n",
        "  4.Huge Standard Library.\n",
        "\n",
        "2.What is an interpreter in Python?\n",
        "  - An interpreter in Python is a special program that reads and executes Python code line by line.\n",
        "\n",
        "3.What are pre-defined keywords in Python?\n",
        "  - Pre-defined keywords in Python are reserved words that have special meaning in the language. Some Python keywords are: if, else, while, for, break, continue, def, class, import, return, True, False, None.\n",
        "\n",
        "4.Can keywords be used as variable names?\n",
        "   - No, keywords cannot be used as variable names in Python.\n",
        "  Since keywords are reserved words, Python uses them for its own syntax and rules.\n",
        "  If you try to use a keyword as a variable name, Python will throw a SyntaxError.  \n",
        "\n",
        "5.What is mutability in Python?\n",
        "  - Mutability means whether an object’s value can be changed after it is created.\n",
        "  Mutable:\n",
        "  List ([ ])\n",
        "  Dictionary ({ })\n",
        "  Set ({ })\n",
        "  User-defined classes (by default)\n",
        "  Immutable:\n",
        "  Integer (int)\n",
        "  Float (float)\n",
        "  String (str)\n",
        "  Tuple (( ))\n",
        "  Boolean (True/False)\n",
        "  Frozenset (frozenset) .\n",
        "\n",
        "6.Why are lists mutable, but tuples are immutable?\n",
        "   - Lists are mutable because they are designed to store a collection of items that can be changed (added, removed, or updated).\n",
        "   Tuples are immutable to provide fixed data storage, making them faster, safer, and usable as dictionary keys.\n",
        "\n",
        "7.What is the difference between “==” and “is” operators in Python?\n",
        "   - \"==\" checks if values are equal while \"is\" checks if both variables refer   to the same object in memory.\n",
        "8.What are logical operators in Python?\n",
        "   - Logical Operators in Python\n",
        "   Logical operators are used to combine conditional statements and return either True or False.\n",
        "   1. and\n",
        "   Returns True only if both conditions are true.\n",
        "   x = 5\n",
        "   print(x > 2 and x < 10)   \n",
        "   print(x > 2 and x > 10)\n",
        "   2. or\n",
        "   Returns True if at least one condition is true.\n",
        "   x = 5\n",
        "   print(x > 2 or x < 4)     \n",
        "   print(x < 2 or x > 10)   \n",
        "   3. not\n",
        "   Reverses the result (True → False, False → True).\n",
        "   x = 5\n",
        "   print(not(x > 2))   \n",
        "   print(not(x < 2))   \n",
        "\n",
        "9.What is type casting in Python?\n",
        "   - Type casting in Python is the process of converting a variable from one data type to another (e.g., from string to integer).\n",
        "      Types of Type Casting:\n",
        "      1)Implicit Type Casting : Automatically done by Python.\n",
        "      Example: x = 5       \n",
        "               y = 2.5     \n",
        "               z = x + y   \n",
        "               print(z)\n",
        "      2)Explicit Type Casting : Done by the programmer using functions like int(), float(), str().\n",
        "      Example: num_str = \"10\"\n",
        "               num_int = int(num_str)  \n",
        "               print(num_int + 5).\n",
        "\n",
        "10.What is the difference between implicit and explicit type casting?\n",
        "   - 1.Implicit Type Casting (Automatic)\n",
        "          Automatically performed by Python.\n",
        "          Happens when combining different data types in expressions.\n",
        "          No need for programmer intervention.\n",
        "          Safe and no data loss.\n",
        "       Example:x = 5        \n",
        "        y = 2.5       \n",
        "        z = x + y   \n",
        "       print(z)\n",
        "       Output: 7.5\n",
        "  2.Explicit Type Casting (Manual)\n",
        "        Done manually by the programmer.\n",
        "        Uses functions like int(), float(), str().\n",
        "        Converts one data type to another explicitly.\n",
        "        May cause data loss if used improperly.\n",
        "       Example:num_str = \"10\"\n",
        "        num_int = int(num_str)\n",
        "        print(num_int + 5)\n",
        "        Output: 15             \n",
        "            \n",
        "11.What is the purpose of conditional statements in Python?\n",
        "  - Purpose of Conditional Statements:\n",
        "         To perform different actions based on different conditions.\n",
        "         Helps in making decisions in a program.\n",
        "         control program flow.\n",
        "         handle different scenarios.\n",
        "\n",
        "12.How does the elif statement work?\n",
        "   - The elif statement stands for “else if”.\n",
        "        It allows checking multiple conditions in sequence after an initial if.\n",
        "        Python checks the conditions one by one from top to bottom.\n",
        "        The first condition that is True gets executed, and the rest are skipped.\n",
        "  Example:\n",
        "     \n",
        "     if age < 13:\n",
        "         print(\"Child\")\n",
        "     elif age < 18:\n",
        "         print(\"Teenager\")\n",
        "     else:\n",
        "         print(\"Adult\")\n",
        "     Output:\n",
        "       Adult\n",
        "\n",
        "13.What is the difference between for and while loops?\n",
        "   - for Loop\n",
        "        Used to iterate over a sequence (like list, tuple, range).\n",
        "        Best when the number of iterations is known.\n",
        "\n",
        "        Example:\n",
        "                  for i in range(3):\n",
        "                      print(i)\n",
        "\n",
        "        Output:\n",
        "                0\n",
        "                1\n",
        "                2\n",
        "        while Loop\n",
        "        Repeats as long as a condition is True.\n",
        "        Best when the number of iterations is not known in advance.\n",
        "\n",
        "        Example:\n",
        "                 i = 0\n",
        "                 while i < 3:\n",
        "                    print(i)\n",
        "                i+=1\n",
        "\n",
        "14.Describe a scenario where a while loop is more suitable than a for loop.\n",
        "   - Scenario: Waiting for User Input\n",
        "     1.You don't know in advance how many times the user will enter invalid input.\n",
        "     Why while is Better Than for Here:\n",
        "     We don't know how many attempts the user will take.\n",
        "     Loop continues until the correct condition is met.\n",
        "\n",
        "     Example:   \n",
        "                 password = \"secret\"\n",
        "                 user_input = \"\"\n",
        "              while user_input != password:\n",
        "                  user_input = input(\"Enter password: \")\n",
        "              print\n",
        "              (\"Access granted\")                   \n",
        "\n",
        "\n",
        "\n",
        "\n",
        "\n",
        "\n",
        "\n",
        "\n"
      ],
      "metadata": {
        "id": "4Afm5nYzXkiW"
      }
    },
    {
      "cell_type": "code",
      "execution_count": 1,
      "metadata": {
        "colab": {
          "base_uri": "https://localhost:8080/"
        },
        "id": "rCti9ygyPeAO",
        "outputId": "ba19faff-00bd-417d-9323-d26265341046"
      },
      "outputs": [
        {
          "output_type": "stream",
          "name": "stdout",
          "text": [
            "Hello, world!\n"
          ]
        }
      ],
      "source": [
        "#1. Write a Python program to print \"Hello, World!\"\n",
        "print(\"Hello, world!\")"
      ]
    },
    {
      "cell_type": "code",
      "source": [
        " #2.Write a Python program that displays your name and age.\n",
        " name = \"Minakshi\"\n",
        " age  = 24\n",
        " print(\"My name is\", name)\n",
        " print(\"I am\", age, \"years old\")"
      ],
      "metadata": {
        "colab": {
          "base_uri": "https://localhost:8080/"
        },
        "id": "8cznCN5tqzwR",
        "outputId": "0e7cfc2e-f21a-4e65-d991-d8648b2d88c1"
      },
      "execution_count": 2,
      "outputs": [
        {
          "output_type": "stream",
          "name": "stdout",
          "text": [
            "My name is Minakshi\n",
            "I am 20 years old\n"
          ]
        }
      ]
    },
    {
      "cell_type": "code",
      "source": [
        "#3.Write code to print all the pre-defined keywords in Python using the keyword library.\n",
        "import keyword\n",
        "\n",
        "print(\"Python keywords are:\")\n",
        "print(keyword.kwlist)"
      ],
      "metadata": {
        "colab": {
          "base_uri": "https://localhost:8080/"
        },
        "id": "61JJKRhrsSta",
        "outputId": "f1790f0e-a37b-403b-d52d-18be2848ba13"
      },
      "execution_count": 3,
      "outputs": [
        {
          "output_type": "stream",
          "name": "stdout",
          "text": [
            "Python keywords are:\n",
            "['False', 'None', 'True', 'and', 'as', 'assert', 'async', 'await', 'break', 'class', 'continue', 'def', 'del', 'elif', 'else', 'except', 'finally', 'for', 'from', 'global', 'if', 'import', 'in', 'is', 'lambda', 'nonlocal', 'not', 'or', 'pass', 'raise', 'return', 'try', 'while', 'with', 'yield']\n"
          ]
        }
      ]
    },
    {
      "cell_type": "code",
      "source": [
        "#4.Write a program that checks if a given word is a Python keyword.\n",
        "import keyword\n",
        "\n",
        "word = input(\"Enter a word to check: \")\n",
        "if keyword.iskeyword(word):\n",
        "    print(f'\"{word}\" is a Python keyword.')\n",
        "else:\n",
        "    print(f'\"{word}\" is NOT a Python keyword.')"
      ],
      "metadata": {
        "colab": {
          "base_uri": "https://localhost:8080/"
        },
        "id": "tqM3ZcYftCgU",
        "outputId": "8fc469e1-9a74-4735-dba0-8a394b4ed0c6"
      },
      "execution_count": 4,
      "outputs": [
        {
          "output_type": "stream",
          "name": "stdout",
          "text": [
            "Enter a word to check: hello\n",
            "\"hello\" is NOT a Python keyword.\n"
          ]
        }
      ]
    },
    {
      "cell_type": "code",
      "source": [
        "#5.Create a list and tuple in Python, and demonstrate how attempting to change an element works differently for each.\n",
        "# Create a list\n",
        "my_list = [1, 2, 3]\n",
        "print(\"Original List:\", my_list)\n",
        "\n",
        "# Modify an element in the list\n",
        "my_list[0] = 10\n",
        "print(\"Modified List:\", my_list)\n",
        "\n",
        "# Create a tuple\n",
        "my_tuple = (1, 2, 3)\n",
        "print(\"Original Tuple:\", my_tuple)\n",
        "\n",
        "# Attempt to modify an element in the tuple\n",
        "try:\n",
        "    my_tuple[0] = 10\n",
        "except TypeError as e:\n",
        "    print(\"Error while modifying tuple:\", e)"
      ],
      "metadata": {
        "colab": {
          "base_uri": "https://localhost:8080/"
        },
        "id": "_YQV1q3jtxpK",
        "outputId": "a2cfcb6c-9360-43f0-8c28-1d52f62662f8"
      },
      "execution_count": 5,
      "outputs": [
        {
          "output_type": "stream",
          "name": "stdout",
          "text": [
            "Original List: [1, 2, 3]\n",
            "Modified List: [10, 2, 3]\n",
            "Original Tuple: (1, 2, 3)\n",
            "Error while modifying tuple: 'tuple' object does not support item assignment\n"
          ]
        }
      ]
    },
    {
      "cell_type": "code",
      "source": [
        "#6.Write a function to demonstrate the behavior of mutable and immutable arguments.\n",
        "# Function to modify arguments\n",
        "def modify_args(a_list, a_number):\n",
        "    a_list.append(100)\n",
        "\n",
        "    a_number += 10\n",
        "    print(\"Inside function - list:\", a_list)\n",
        "    print(\"Inside function - number:\", a_number)\n",
        "\n",
        "# Mutable object (list)\n",
        "my_list = [1, 2, 3]\n",
        "# Immutable object (integer)\n",
        "my_number = 50\n",
        "\n",
        "print(\"Before function call - list:\", my_list)\n",
        "print(\"Before function call - number:\", my_number)\n",
        "\n",
        "# Call the function\n",
        "modify_args(my_list, my_number)\n",
        "\n",
        "print(\"After function call - list:\", my_list)\n",
        "print(\"After function call - number:\", my_number)"
      ],
      "metadata": {
        "colab": {
          "base_uri": "https://localhost:8080/"
        },
        "id": "00Jpf2KgukuL",
        "outputId": "12c8961b-2ece-4edd-d002-291c5fc2feb6"
      },
      "execution_count": 6,
      "outputs": [
        {
          "output_type": "stream",
          "name": "stdout",
          "text": [
            "Before function call - list: [1, 2, 3]\n",
            "Before function call - number: 50\n",
            "Inside function - list: [1, 2, 3, 100]\n",
            "Inside function - number: 60\n",
            "After function call - list: [1, 2, 3, 100]\n",
            "After function call - number: 50\n"
          ]
        }
      ]
    },
    {
      "cell_type": "code",
      "source": [
        "#7. Write a program that performs basic arithmetic operations on two user-input numbers.\n",
        "# Take two numbers as input from the user\n",
        "num1 = float(input(\"Enter the first number: \"))\n",
        "num2 = float(input(\"Enter the second number: \"))\n",
        "\n",
        "# Perform basic arithmetic operations\n",
        "addition = num1 + num2\n",
        "subtraction = num1 - num2\n",
        "multiplication = num1 * num2\n",
        "division = num1 / num2 if num2 != 0 else \"Undefined (division by zero)\"\n",
        "modulus = num1 % num2 if num2 != 0 else \"Undefined (modulus by zero)\"\n",
        "\n",
        "# Display the results\n",
        "print(f\"{num1} + {num2} = {addition}\")\n",
        "print(f\"{num1} - {num2} = {subtraction}\")\n",
        "print(f\"{num1} * {num2} = {multiplication}\")\n",
        "print(f\"{num1} / {num2} = {division}\")\n",
        "print(f\"{num1} % {num2} = {modulus}\")"
      ],
      "metadata": {
        "colab": {
          "base_uri": "https://localhost:8080/"
        },
        "id": "yj5mqmvovPil",
        "outputId": "2770b709-ddd5-4456-a514-73576c6030f5"
      },
      "execution_count": 7,
      "outputs": [
        {
          "output_type": "stream",
          "name": "stdout",
          "text": [
            "Enter the first number: 4\n",
            "Enter the second number: 5\n",
            "4.0 + 5.0 = 9.0\n",
            "4.0 - 5.0 = -1.0\n",
            "4.0 * 5.0 = 20.0\n",
            "4.0 / 5.0 = 0.8\n",
            "4.0 % 5.0 = 4.0\n"
          ]
        }
      ]
    },
    {
      "cell_type": "code",
      "source": [
        "#8. Write a program to demonstrate the use of logical operators.\n",
        "# Take two boolean inputs from the user\n",
        "a = True\n",
        "b = False\n",
        "\n",
        "# Demonstrate AND operator\n",
        "print(\"AND Operator:\")\n",
        "print(f\"{a} and {b} = {a and b}\")\n",
        "\n",
        "# Demonstrate OR operator\n",
        "print(\"\\nOR Operator:\")\n",
        "print(f\"{a} or {b} = {a or b}\")\n",
        "\n",
        "# Demonstrate NOT operator\n",
        "print(\"\\nNOT Operator:\")\n",
        "print(f\"not {a} = {not a}\")\n",
        "print(f\"not {b} = {not b}\")\n",
        "\n",
        "# Practical example with numbers\n",
        "x = 10\n",
        "y = 5\n",
        "\n",
        "print(\"\\nPractical Example:\")\n",
        "if x > 0 and y > 0:\n",
        "    print(\"Both x and y are positive numbers.\")\n",
        "\n",
        "if x > 0 or y < 0:\n",
        "    print(\"At least one condition is True.\")\n",
        "\n",
        "if not x < 0:\n",
        "    print(\"x is not negative.\")"
      ],
      "metadata": {
        "colab": {
          "base_uri": "https://localhost:8080/"
        },
        "id": "ixSWAw36v2an",
        "outputId": "ec2ecb14-d83c-492d-d6ab-9666bb3c9f19"
      },
      "execution_count": 9,
      "outputs": [
        {
          "output_type": "stream",
          "name": "stdout",
          "text": [
            "AND Operator:\n",
            "True and False = False\n",
            "\n",
            "OR Operator:\n",
            "True or False = True\n",
            "\n",
            "NOT Operator:\n",
            "not True = False\n",
            "not False = True\n",
            "\n",
            "Practical Example:\n",
            "Both x and y are positive numbers.\n",
            "At least one condition is True.\n",
            "x is not negative.\n"
          ]
        }
      ]
    },
    {
      "cell_type": "code",
      "source": [
        "#9.. Write a Python program to convert user input from string to integer, float, and boolean types.\n",
        "# Take input from the user as a string\n",
        "user_input = input(\"Enter something: \")\n",
        "\n",
        "# Convert to integer (if possible)\n",
        "try:\n",
        "    int_value = int(user_input)\n",
        "    print(\"Integer:\", int_value)\n",
        "except ValueError:\n",
        "    print(\"Cannot convert to integer\")\n",
        "\n",
        "# Convert to float (if possible)\n",
        "try:\n",
        "    float_value = float(user_input)\n",
        "    print(\"Float:\", float_value)\n",
        "except ValueError:\n",
        "    print(\"Cannot convert to float\")\n",
        "\n",
        "# Convert to boolean\n",
        "# In Python, non-empty strings are True, empty string is False\n",
        "bool_value = bool(user_input)\n",
        "print(\"Boolean:\", bool_value)"
      ],
      "metadata": {
        "colab": {
          "base_uri": "https://localhost:8080/"
        },
        "id": "VbCP0PWewN6H",
        "outputId": "aac00a21-1f0f-4f6e-cc34-36b89bc5c10c"
      },
      "execution_count": 10,
      "outputs": [
        {
          "output_type": "stream",
          "name": "stdout",
          "text": [
            "Enter something: 25\n",
            "Integer: 25\n",
            "Float: 25.0\n",
            "Boolean: True\n"
          ]
        }
      ]
    },
    {
      "cell_type": "code",
      "source": [
        "#10. Write code to demonstrate type casting with list elements.\n",
        "# Original list with string numbers\n",
        "str_list = [\"1\", \"2\", \"3\", \"4.5\"]\n",
        "\n",
        "# Convert strings to integers (ignoring non-integer values)\n",
        "int_list = []\n",
        "for item in str_list:\n",
        "    try:\n",
        "        int_list.append(int(item))\n",
        "    except ValueError:\n",
        "        print(f\"Cannot convert '{item}' to int\")\n",
        "\n",
        "print(\"Original List (strings):\", str_list)\n",
        "print(\"Converted to Integers:\", int_list)\n",
        "\n",
        "# Convert strings to floats\n",
        "float_list = [float(item) for item in str_list]\n",
        "print(\"Converted to Floats:\", float_list)\n",
        "\n",
        "# Convert strings to booleans\n",
        "bool_list = [bool(item) for item in str_list]\n",
        "print(\"Converted to Booleans:\", bool_list)"
      ],
      "metadata": {
        "colab": {
          "base_uri": "https://localhost:8080/"
        },
        "id": "iVdt-Gjiwy0S",
        "outputId": "d1a4f015-dd98-4488-f2b7-84ccfc888739"
      },
      "execution_count": 11,
      "outputs": [
        {
          "output_type": "stream",
          "name": "stdout",
          "text": [
            "Cannot convert '4.5' to int\n",
            "Original List (strings): ['1', '2', '3', '4.5']\n",
            "Converted to Integers: [1, 2, 3]\n",
            "Converted to Floats: [1.0, 2.0, 3.0, 4.5]\n",
            "Converted to Booleans: [True, True, True, True]\n"
          ]
        }
      ]
    },
    {
      "cell_type": "code",
      "source": [
        "#11. Write a program that checks if a number is positive, negative, or zero.\n",
        "# Take input from the user\n",
        "num = float(input(\"Enter a number: \"))\n",
        "\n",
        "# Check if the number is positive, negative, or zero\n",
        "if num > 0:\n",
        "    print(\"The number is positive.\")\n",
        "elif num < 0:\n",
        "    print(\"The number is negative.\")\n",
        "else:\n",
        "    print(\"The number is zero.\")"
      ],
      "metadata": {
        "colab": {
          "base_uri": "https://localhost:8080/"
        },
        "id": "_bE-B-4JxIMr",
        "outputId": "75afb8e1-ed0b-4512-c4d7-53c32320b889"
      },
      "execution_count": 12,
      "outputs": [
        {
          "output_type": "stream",
          "name": "stdout",
          "text": [
            "Enter a number: 5\n",
            "The number is positive.\n"
          ]
        }
      ]
    },
    {
      "cell_type": "code",
      "source": [
        "#12.. Write a for loop to print numbers from 1 to 10.\n",
        "# Using for loop to print numbers from 1 to 10\n",
        "for i in range(1, 11):\n",
        "    print(i)"
      ],
      "metadata": {
        "colab": {
          "base_uri": "https://localhost:8080/"
        },
        "id": "sICQKHAjxgGO",
        "outputId": "cbc59a40-401c-48ac-810d-96a9a6626099"
      },
      "execution_count": 13,
      "outputs": [
        {
          "output_type": "stream",
          "name": "stdout",
          "text": [
            "1\n",
            "2\n",
            "3\n",
            "4\n",
            "5\n",
            "6\n",
            "7\n",
            "8\n",
            "9\n",
            "10\n"
          ]
        }
      ]
    },
    {
      "cell_type": "code",
      "source": [
        "#13. Write a Python program to find the sum of all even numbers between 1 and 50.\n",
        "# Initialize sum\n",
        "sum_even = 0\n",
        "\n",
        "# Loop through numbers from 1 to 50\n",
        "for num in range(1, 51):\n",
        "    if num % 2 == 0:\n",
        "        sum_even += num\n",
        "\n",
        "\n",
        "print(\"Sum of all even numbers between 1 and 50 is:\", sum_even)"
      ],
      "metadata": {
        "colab": {
          "base_uri": "https://localhost:8080/"
        },
        "id": "b8i_sA-MxxIH",
        "outputId": "000e58f1-13a4-487c-e493-59b3e1ec6c89"
      },
      "execution_count": 14,
      "outputs": [
        {
          "output_type": "stream",
          "name": "stdout",
          "text": [
            "Sum of all even numbers between 1 and 50 is: 650\n"
          ]
        }
      ]
    },
    {
      "cell_type": "code",
      "source": [
        "#14. Write a program to reverse a string using a while loop.\n",
        "# Take input from the user\n",
        "original_string = input(\"Enter a string: \")\n",
        "\n",
        "# Initialize variables\n",
        "reversed_string = \"\"\n",
        "index = len(original_string) - 1\n",
        "\n",
        "# Use while loop to reverse the string\n",
        "while index >= 0:\n",
        "    reversed_string += original_string[index]\n",
        "    index -= 1\n",
        "\n",
        "# Print the reversed string\n",
        "print(\"Reversed string:\", reversed_string)"
      ],
      "metadata": {
        "colab": {
          "base_uri": "https://localhost:8080/"
        },
        "id": "XsPQWifwyIsZ",
        "outputId": "769a703f-b80b-434b-92be-4b84b67cba67"
      },
      "execution_count": 15,
      "outputs": [
        {
          "output_type": "stream",
          "name": "stdout",
          "text": [
            "Enter a string: 18\n",
            "Reversed string: 81\n"
          ]
        }
      ]
    },
    {
      "cell_type": "code",
      "source": [
        "#15.Write a Python program to calculate the factorial of a number provided by the user using a while loop.\n",
        "# Take input from the user\n",
        "num = int(input(\"Enter a non-negative integer: \"))\n",
        "\n",
        "# Initialize factorial result\n",
        "factorial = 1\n",
        "i = 1\n",
        "\n",
        "# Check for negative input\n",
        "if num < 0:\n",
        "    print(\"Factorial is not defined for negative numbers.\")\n",
        "else:\n",
        "    # Calculate factorial using while loop\n",
        "    while i <= num:\n",
        "        factorial *= i\n",
        "        i += 1\n",
        "    print(f\"The factorial of {num} is {factorial}\")"
      ],
      "metadata": {
        "colab": {
          "base_uri": "https://localhost:8080/"
        },
        "id": "I03x2FGOyIRp",
        "outputId": "2b872b58-e379-4b51-d373-c38201ee571b"
      },
      "execution_count": 16,
      "outputs": [
        {
          "output_type": "stream",
          "name": "stdout",
          "text": [
            "Enter a non-negative integer: 8\n",
            "The factorial of 8 is 40320\n"
          ]
        }
      ]
    }
  ]
}