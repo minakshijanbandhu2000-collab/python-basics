{
  "nbformat": 4,
  "nbformat_minor": 0,
  "metadata": {
    "colab": {
      "provenance": []
    },
    "kernelspec": {
      "name": "python3",
      "display_name": "Python 3"
    },
    "language_info": {
      "name": "python"
    }
  },
  "cells": [
    {
      "cell_type": "markdown",
      "source": [
        "#Functions\n"
      ],
      "metadata": {
        "id": "8zS_XYEO4AEI"
      }
    },
    {
      "cell_type": "markdown",
      "source": [
        "1. What is the difference between a function and a method in Python?\n",
        "   \n",
        "   - Function\n",
        "\n",
        "     1. A function is a block of reusable code that performs a specific task.\n",
        "\n",
        "     2. It is defined using the def keyword.\n",
        "\n",
        "     3. Functions can exist independently (outside of classes).\n",
        "  \n",
        "  \n",
        "   * Method  \n",
        "\n",
        "     1. A method is also a function, but it is associated with an object (or class).\n",
        "\n",
        "     2. It is defined inside a class and usually operates on data (attributes) of that class.\n",
        "\n",
        "     3. The first parameter of instance methods is usually self, which refers to the object itself.\n",
        "\n",
        "2.  Explain the concept of function arguments and parameters in Python.\n",
        "    - Arguments\n",
        "\n",
        "     Definition:\n",
        "     \n",
        "     Arguments are the actual values/data you pass into the function when calling it.\n",
        "\n",
        "     Example:\n",
        "\n",
        "     greet(\"Minakshi\")  # \"Minakshi\" is an argument\n",
        "\n",
        "     Here, \"Minakshi\" is the argument being assigned to the parameter name.\n",
        "\n",
        "     * Parameters\n",
        "\n",
        "      Definition:\n",
        "      \n",
        "      Parameters are variables listed inside the parentheses in a function definition.\n",
        "\n",
        "      They act as placeholders for the values that will be passed when the function is called.\n",
        "\n",
        "      Example:\n",
        "\n",
        "      def greet(name):  # 'name' is a parameter\n",
        "          print(f\"Hello, {name}!\")\n",
        "\n",
        "      Here, name is a parameter.   \n",
        "\n",
        "3. What are the different ways to define and call a function in Python?\n",
        "   - Ways to Define a Function in Python\n",
        "\n",
        "     1. Normal function → def func(): ...\n",
        "\n",
        "     2. With default parameters → def func(a=10): ...\n",
        "\n",
        "     3. With variable arguments →\n",
        "\n",
        "     4. *args (positional, tuple)\n",
        "\n",
        "     5. **kwargs (keyword, dict)\n",
        "\n",
        "     6. Lambda function → lambda x: x*2\n",
        "\n",
        "     7. Nested function → function inside another function\n",
        "\n",
        "     8. Recursive function → function calls itself  \n",
        "\n",
        "\n",
        "   *  Ways to Call a Function\n",
        "\n",
        "     1. Positional arguments → func(10, 20)\n",
        "\n",
        "     2. Keyword arguments → func(a=10, b=20)\n",
        "\n",
        "     3. Default arguments → func() (uses default)\n",
        "\n",
        "     4. Mix of positional & keyword → func(10, b=20)\n",
        "\n",
        "     5. Argument unpacking →\n",
        "\n",
        "        func(*tuple_or_list)\n",
        "\n",
        "        func(**dict)   \n",
        "\n",
        "4. What is the purpose of the `return` statement in a Python function?\n",
        "   - The return statement in Python is used to:\n",
        "\n",
        "    1. Send a value back to the caller\n",
        "\n",
        "       It allows a function to produce an output that can be stored or used later.\n",
        "\n",
        "    2. End function execution\n",
        "\n",
        "        As soon as return is executed, the function stops running, and control goes back to the caller.    \n",
        "\n",
        "    3. Return multiple values (as a tuple)\n",
        "\n",
        "       Python allows returning more than one value.    \n",
        "\n",
        "    4. No return → returns None by default\n",
        "    \n",
        "    def greet():\n",
        "    \n",
        "    print(\"Hello!\")\n",
        "\n",
        "    result = greet()\n",
        "    print(result)  \n",
        "\n",
        "\n",
        "5.  What are iterators in Python and how do they differ from iterables?\n",
        "  - Iterable\n",
        "\n",
        "       An iterable is any Python object that can return an iterator.\n",
        "\n",
        "       Examples: lists, tuples, strings, sets, dictionaries, ranges, etc.\n",
        "\n",
        "       Technically: An object is iterable if it implements the __iter__() method.\n",
        "Examples:\n",
        "\n",
        "       my_list = [1, 2, 3]\n",
        "       \n",
        "       for item in my_list:  # list is iterable\n",
        "       \n",
        "       print(item)\n",
        "       \n",
        "       Here, my_list is an iterable.  \n",
        "\n",
        "\n",
        "\n",
        "  \n",
        "  \n",
        "  * Iterator\n",
        "\n",
        "     An iterator is an object that remembers its state and gives one item at a time when you call next().\n",
        "\n",
        "     Technically: An object is an iterator if it implements both:\n",
        "\n",
        "     __iter__() → returns the iterator itself\n",
        "\n",
        "     __next__() → returns the next value (and raises StopIteration when no more items)\n",
        "\n",
        "Examples:\n",
        "\n",
        "     my_list = [1, 2, 3]\n",
        "     it = iter(my_list)  # create an iterator\n",
        "     print(next(it))  # 1\n",
        "     print(next(it))  # 2\n",
        "     print(next(it))  # 3\n",
        "     # print(next(it))  # StopIteration\n",
        "\n",
        " Here, it is an iterator.\n",
        "\n",
        "6. Explain the concept of generators in Python and how they are defined.\n",
        "   - Generators in Python\n",
        "\n",
        "     Generators are special iterators that produce values one at a time using lazy evaluation (don’t store all data in memory).\n",
        "\n",
        "     They are defined in two ways:\n",
        "\n",
        "    1. Generator Function\n",
        "\n",
        "     Uses yield instead of return.\n",
        "\n",
        "     def count_up_to(n):\n",
        "        i = 1\n",
        "        while i <= n:\n",
        "             yield i\n",
        "              i += 1\n",
        "\n",
        "   2. Generator Expression\n",
        "\n",
        "     Like list comprehension but with () instead of [].\n",
        "\n",
        "     squares = (x*x for x in range(5))-\n",
        "\n",
        "7. What are the advantages of using generators over regular functions?   \n",
        "  - 1. Memory Efficiency\n",
        "\n",
        "     Generators produce items one at a time, so they don’t store the entire sequence in memory.\n",
        "\n",
        "     Ideal for large datasets or infinite sequences.\n",
        "\n",
        "   2. Lazy Evaluation\n",
        "\n",
        "     Values are generated only when needed, not all at once.\n",
        "     Saves computation time for sequences where you might not need all values.\n",
        "\n",
        "   3. Represent Infinite Sequences\n",
        "\n",
        "     Regular functions can’t handle infinite data, but generators can.\n",
        "  \n",
        "  4. Cleaner Code\n",
        "\n",
        "     Using yield makes code for iterators shorter and more readable than writing a class with __iter__() and __next__().\n",
        "\n",
        "5. Can be Iterated Once\n",
        "\n",
        "   Generators are iterators and maintain their state, so you can resume iteration without recomputation.\n",
        "\n",
        "8. What is a lambda function in Python and when is it typically used?  \n",
        "  - Lambda Function in Python\n",
        "\n",
        "    1. A lambda function is a small, anonymous function defined using the lambda keyword.\n",
        "\n",
        "    2. It can take any number of arguments but can only have one expression.\n",
        "\n",
        "    3. The expression is evaluated and returned automatically.\n",
        "  \n",
        "\n",
        "* Typical Uses of Lambda Functions\n",
        "\n",
        "     Short, throwaway functions where defining a full def is unnecessary.\n",
        "\n",
        "     Often used as arguments to functions like map(), filter(), sorted(), etc.\n",
        "\n",
        "\n",
        "9. Explain the purpose and usage of the `map()` function in Python.   \n",
        "   - map() Function in Python\n",
        "\n",
        "     Purpose:\n",
        "      The map() function applies a given function to every item of an iterable (like list, tuple, etc.) and returns a map object (an iterator) of the results.\n",
        "\n",
        "     function → a function that takes one argument (can also be a lambda)\n",
        "\n",
        "     iterable → any iterable object (list, tuple, etc.)\n",
        "\n",
        "\n",
        "Example 1: Using a Normal Function\n",
        "\n",
        "     def square(x):\n",
        "        return x * x\n",
        "        nums = [1, 2, 3, 4]\n",
        "        squared_nums = map(square, nums)  # returns a map object\n",
        "        print(list(squared_nums))         # [1, 4, 9, 16]\n",
        "\n",
        "\n",
        "Example 2: Using a Lambda Function\n",
        "\n",
        "       nums = [1, 2, 3, 4]\n",
        "       squared_nums = map(lambda x: x**2, nums)\n",
        "       print(list(squared_nums))  # [1, 4, 9, 16]\n",
        "\n",
        "\n",
        "\n",
        "10. What is the difference between `map()`, `reduce()`, and `filter()` functions in Python?\n",
        "\n",
        "   - 1. map()\n",
        "\n",
        "     1.Applies a function to every item in an iterable.\n",
        "\n",
        "     2.Returns an iterator of transformed values.\n",
        "\n",
        "     3.Function can take one or more arguments.\n",
        "\n",
        "     4.Use case: Transform elements.\n",
        "\n",
        "  2. filter()\n",
        "\n",
        "     1.Applies a function that returns True/False to each item.\n",
        "\n",
        "     2.Returns an iterator of items where the function is True.\n",
        "\n",
        "     3.Function takes one argument.\n",
        "\n",
        "     4.Use case: Select elements based on a condition.\n",
        "\n",
        "  3. reduce() (from functools)\n",
        "\n",
        "     1.Applies a binary function cumulatively to items of an iterable.\n",
        "\n",
        "     2.Returns a single value.\n",
        "\n",
        "     3.Function takes two arguments.\n",
        "\n",
        "     4.Use case: Aggregate or combine elements (sum, product, etc.).\n",
        "\n",
        "11.  Using pen & Paper write the internal mechanism for sum operation using  reduce function on this given list:[47,11,42,13];\n",
        "     - ![image.jpg](data:image/jpeg;base64,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)\n",
        "   "
      ],
      "metadata": {
        "id": "bMWUb0le4jMW"
      }
    },
    {
      "cell_type": "code",
      "execution_count": null,
      "metadata": {
        "id": "QKTJs4F92xnY",
        "colab": {
          "base_uri": "https://localhost:8080/"
        },
        "outputId": "bac71738-f458-4b9d-b501-d2619f73a956"
      },
      "outputs": [
        {
          "output_type": "stream",
          "name": "stdout",
          "text": [
            "72\n"
          ]
        }
      ],
      "source": [
        "#1.  Write a Python function that takes a list of numbers as input and returns the sum of all even numbers in the list.\n",
        "def sum_even_numbers(numbers):\n",
        "    return sum(filter(lambda x: x % 2 == 0, numbers))\n",
        "\n",
        "# Example\n",
        "nums = [10, 15, 22, 33, 40]\n",
        "print(sum_even_numbers(nums))\n"
      ]
    },
    {
      "cell_type": "code",
      "source": [
        "#2.Create a Python function that accepts a string and returns the reverse of that string.\n",
        "def reverse_string(s):\n",
        "    return ''.join(reversed(s))\n",
        "\n",
        "# Example\n",
        "print(reverse_string(\"Python\"))"
      ],
      "metadata": {
        "colab": {
          "base_uri": "https://localhost:8080/"
        },
        "id": "x9SWbsKDQpAB",
        "outputId": "6052f9b2-ccab-4925-a86e-d17820e9925c"
      },
      "execution_count": null,
      "outputs": [
        {
          "output_type": "stream",
          "name": "stdout",
          "text": [
            "nohtyP\n"
          ]
        }
      ]
    },
    {
      "cell_type": "code",
      "source": [
        "#3. Implement a Python function that takes a list of integers and returns a new list containing the squares of each number.\n",
        "def square_list(numbers):\n",
        "    return list(map(lambda x: x**2, numbers))\n",
        "\n",
        "# Example\n",
        "print(square_list([1, 2, 3, 4, 5]))"
      ],
      "metadata": {
        "colab": {
          "base_uri": "https://localhost:8080/"
        },
        "id": "Al47off4Q3bk",
        "outputId": "c5d3548a-4d9f-4dc5-ba23-fa41ba1b5903"
      },
      "execution_count": null,
      "outputs": [
        {
          "output_type": "stream",
          "name": "stdout",
          "text": [
            "[1, 4, 9, 16, 25]\n"
          ]
        }
      ]
    },
    {
      "cell_type": "code",
      "source": [
        "#4.Write a Python function that checks if a given number is prime or not from 1 to 200.\n",
        "def is_prime(n):\n",
        "    if n <= 1:\n",
        "        return False\n",
        "    for i in range(2, int(n**0.5) + 1):\n",
        "        if n % i == 0:\n",
        "            return False\n",
        "    return True\n",
        "\n",
        "# Check prime numbers from 1 to 200\n",
        "for num in range(1, 201):\n",
        "    if is_prime(num):\n",
        "      print(num)\n"
      ],
      "metadata": {
        "colab": {
          "base_uri": "https://localhost:8080/"
        },
        "id": "lklyVNrZRr5C",
        "outputId": "41daf2df-7c52-409b-9d42-5cb63d5d36fd"
      },
      "execution_count": null,
      "outputs": [
        {
          "output_type": "stream",
          "name": "stdout",
          "text": [
            "2\n",
            "3\n",
            "5\n",
            "7\n",
            "11\n",
            "13\n",
            "17\n",
            "19\n",
            "23\n",
            "29\n",
            "31\n",
            "37\n",
            "41\n",
            "43\n",
            "47\n",
            "53\n",
            "59\n",
            "61\n",
            "67\n",
            "71\n",
            "73\n",
            "79\n",
            "83\n",
            "89\n",
            "97\n",
            "101\n",
            "103\n",
            "107\n",
            "109\n",
            "113\n",
            "127\n",
            "131\n",
            "137\n",
            "139\n",
            "149\n",
            "151\n",
            "157\n",
            "163\n",
            "167\n",
            "173\n",
            "179\n",
            "181\n",
            "191\n",
            "193\n",
            "197\n",
            "199\n"
          ]
        }
      ]
    },
    {
      "cell_type": "code",
      "source": [
        "#5. Create an iterator class in Python that generates the Fibonacci sequence up to a specified number of terms.\n",
        "class FibonacciIterator:\n",
        "    def __init__ (self, n):\n",
        "        self.n = n\n",
        "        self.a, self.b = 0, 1\n",
        "        self.count = 0\n",
        "\n",
        "    def __iter__ (self):\n",
        "        return self\n",
        "\n",
        "    def __next__ (self):\n",
        "        if self.count < self.n:\n",
        "            fib_num = self.a\n",
        "            self.a, self.b = self.b, self.a + self.b\n",
        "            self.count += 1\n",
        "            return fib_num\n",
        "        else:\n",
        "            raise StopIteration\n",
        "fib_iterator = FibonacciIterator(10)\n",
        "for num in fib_iterator:\n",
        "    print(num)\n",
        "\n",
        "\n",
        "\n"
      ],
      "metadata": {
        "colab": {
          "base_uri": "https://localhost:8080/"
        },
        "id": "fD3eYAWeeiLD",
        "outputId": "09c882d7-d20f-4864-a97f-6726c5628482"
      },
      "execution_count": null,
      "outputs": [
        {
          "output_type": "stream",
          "name": "stdout",
          "text": [
            "0\n",
            "1\n",
            "1\n",
            "2\n",
            "3\n",
            "5\n",
            "8\n",
            "13\n",
            "21\n",
            "34\n"
          ]
        }
      ]
    },
    {
      "cell_type": "code",
      "source": [
        "#6.Write a generator function in Python that yields the powers of 2 up to a given exponent.\n",
        "def powers_of_two(n):\n",
        "    for i in range(n + 1):\n",
        "        yield 2 ** i\n",
        "\n",
        "# Example usage:\n",
        "for power in powers_of_two(5):\n",
        "    print(power)"
      ],
      "metadata": {
        "colab": {
          "base_uri": "https://localhost:8080/"
        },
        "id": "AULZqqgvgOhB",
        "outputId": "13b94a53-42bc-40e3-dfff-58f907306f29"
      },
      "execution_count": null,
      "outputs": [
        {
          "output_type": "stream",
          "name": "stdout",
          "text": [
            "1\n",
            "2\n",
            "4\n",
            "8\n",
            "16\n",
            "32\n"
          ]
        }
      ]
    },
    {
      "cell_type": "code",
      "source": [
        "#7. Implement a generator function that reads a file line by line and yields each line as a string.\n",
        "def read_file_line_by_line(file_path):\n",
        "    try:\n",
        "        with open(file_path, 'r') as file:\n",
        "            for line in file:\n",
        "                yield line.strip()\n",
        "    except FileNotFoundError:\n",
        "        print(f\"File {file_path} not found.\")\n",
        "\n",
        "# Example usage:\n",
        "file_path = 'example.txt'\n",
        "for line in read_file_line_by_line(file_path):\n",
        "    print(line)\n"
      ],
      "metadata": {
        "colab": {
          "base_uri": "https://localhost:8080/"
        },
        "id": "Ep1KKgQZgoYo",
        "outputId": "69a60d26-6871-4304-9c2d-de1ead732963"
      },
      "execution_count": null,
      "outputs": [
        {
          "output_type": "stream",
          "name": "stdout",
          "text": [
            "File example.txt not found.\n"
          ]
        }
      ]
    },
    {
      "cell_type": "code",
      "source": [
        "#8.Use a lambda function in Python to sort a list of tuples based on the second element of each tuple.\n",
        "# Sample list of tuples\n",
        "data = [(1, 3), (4, 1), (2, 5), (3, 2)]\n",
        "\n",
        "# Sort by the second element of each tuple\n",
        "sorted_data = sorted(data, key=lambda x: x[1])\n",
        "\n",
        "print(sorted_data)"
      ],
      "metadata": {
        "colab": {
          "base_uri": "https://localhost:8080/"
        },
        "id": "QQr9_P9gjGyU",
        "outputId": "44394c3e-db0b-49c1-e426-1848d4e0144e"
      },
      "execution_count": null,
      "outputs": [
        {
          "output_type": "stream",
          "name": "stdout",
          "text": [
            "[(4, 1), (3, 2), (1, 3), (2, 5)]\n"
          ]
        }
      ]
    },
    {
      "cell_type": "code",
      "source": [
        "#9. Write a Python program that uses `map()` to convert a list of temperatures from Celsius to Fahrenheit.\n",
        "# List of temperatures in Celsius\n",
        "celsius_temps = [0, 20, 37, 100]\n",
        "\n",
        "# Function to convert Celsius to Fahrenheit\n",
        "def celsius_to_fahrenheit(c):\n",
        "    return (c * 9/5) + 32\n",
        "\n",
        "# Using map() to apply the conversion to each element\n",
        "fahrenheit_temps = list(map(celsius_to_fahrenheit, celsius_temps))\n",
        "\n",
        "print(\"Celsius:\", celsius_temps)\n",
        "print(\"Fahrenheit:\", fahrenheit_temps)"
      ],
      "metadata": {
        "colab": {
          "base_uri": "https://localhost:8080/"
        },
        "id": "oe3RlyHHlJ1-",
        "outputId": "da9d907e-da98-4514-9caa-6315234d4640"
      },
      "execution_count": null,
      "outputs": [
        {
          "output_type": "stream",
          "name": "stdout",
          "text": [
            "Celsius: [0, 20, 37, 100]\n",
            "Fahrenheit: [32.0, 68.0, 98.6, 212.0]\n"
          ]
        }
      ]
    },
    {
      "cell_type": "code",
      "source": [
        "#10.Create a Python program that uses `filter()` to remove all the vowels from a given string.\n",
        "# Input string\n",
        "text = \"Hello, World!\"\n",
        "\n",
        "# Function to check if a character is not a vowel\n",
        "def is_not_vowel(char):\n",
        "    return char.lower() not in 'aeiou'\n",
        "\n",
        "# Using filter() to remove vowels\n",
        "result = ''.join(filter(is_not_vowel, text))\n",
        "\n",
        "print(\"Original string:\", text)\n",
        "print(\"String without vowels:\", result)"
      ],
      "metadata": {
        "colab": {
          "base_uri": "https://localhost:8080/"
        },
        "id": "kW604lJGlcpu",
        "outputId": "ea5ea38d-72d4-48da-8b10-7048699ca7ad"
      },
      "execution_count": null,
      "outputs": [
        {
          "output_type": "stream",
          "name": "stdout",
          "text": [
            "Original string: Hello, World!\n",
            "String without vowels: Hll, Wrld!\n"
          ]
        }
      ]
    },
    {
      "cell_type": "code",
      "source": [
        "#11.Imagine an accounting routine used in a book shop. It works on a list with sublists, which look like this:\n",
        "# Data representing the orders\n",
        "orders = [\n",
        "    [34587, \"Learning Python, Mark Lutz\", 4, 40.95],\n",
        "    [98762, \"Programming Python, Mark Lutz\", 5, 56.80],\n",
        "    [77226, \"Head First Python, Paul Barry\", 3, 32.95],\n",
        "    [88112, \"Einfuhrung in Python3, Bernd Klein\", 3, 24.99]\n",
        "]\n",
        "\n",
        "# Using map and lambda to calculate the product and adjust if needed\n",
        "result = list(map(\n",
        "    lambda order: (order[0], order[2] * order[3] + 10 if order[2] * order[3] < 100 else order[2] * order[3]),\n",
        "    orders\n",
        "))\n",
        "\n",
        "print(result)"
      ],
      "metadata": {
        "colab": {
          "base_uri": "https://localhost:8080/"
        },
        "id": "k7v90iDulvxt",
        "outputId": "f0eb6492-8c36-4df8-f195-4456e1386a80"
      },
      "execution_count": null,
      "outputs": [
        {
          "output_type": "stream",
          "name": "stdout",
          "text": [
            "[(34587, 163.8), (98762, 284.0), (77226, 108.85000000000001), (88112, 84.97)]\n"
          ]
        }
      ]
    }
  ]
}